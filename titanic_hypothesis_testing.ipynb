{
 "cells": [
  {
   "cell_type": "markdown",
   "id": "46033fad-fc67-4e56-afc4-228da880541b",
   "metadata": {},
   "source": [
    "# Hypothesis testing on titanic dataset"
   ]
  },
  {
   "cell_type": "markdown",
   "id": "4765469f-6d23-4d2d-b265-4fafa3c393cd",
   "metadata": {},
   "source": [
    "Via hypothesis testing, we'll try to find the answer to the following questions:\n",
    "\n",
    "- Is passenger gender and cabin class related?\n",
    "- Does the age of passengers vary across cabin classes?\n",
    "- Were the passengers who survived older or younger than those who did not?\n",
    "- Were men older than women on average?"
   ]
  },
  {
   "cell_type": "markdown",
   "id": "515eb370-1cf5-4d8f-a229-457dbc85cad2",
   "metadata": {},
   "source": [
    "## 1. Import data"
   ]
  },
  {
   "cell_type": "code",
   "execution_count": 1,
   "id": "4c1940d5-b4bf-4718-9c5c-727564c012f9",
   "metadata": {},
   "outputs": [
    {
     "data": {
      "text/html": [
       "<div>\n",
       "<style scoped>\n",
       "    .dataframe tbody tr th:only-of-type {\n",
       "        vertical-align: middle;\n",
       "    }\n",
       "\n",
       "    .dataframe tbody tr th {\n",
       "        vertical-align: top;\n",
       "    }\n",
       "\n",
       "    .dataframe thead th {\n",
       "        text-align: right;\n",
       "    }\n",
       "</style>\n",
       "<table border=\"1\" class=\"dataframe\">\n",
       "  <thead>\n",
       "    <tr style=\"text-align: right;\">\n",
       "      <th></th>\n",
       "      <th>Unnamed: 0</th>\n",
       "      <th>Name</th>\n",
       "      <th>PClass</th>\n",
       "      <th>Age</th>\n",
       "      <th>Sex</th>\n",
       "      <th>Survived</th>\n",
       "      <th>SexCode</th>\n",
       "    </tr>\n",
       "  </thead>\n",
       "  <tbody>\n",
       "    <tr>\n",
       "      <th>0</th>\n",
       "      <td>1</td>\n",
       "      <td>Allen, Miss Elisabeth Walton</td>\n",
       "      <td>1st</td>\n",
       "      <td>29.00</td>\n",
       "      <td>female</td>\n",
       "      <td>1</td>\n",
       "      <td>1</td>\n",
       "    </tr>\n",
       "    <tr>\n",
       "      <th>1</th>\n",
       "      <td>2</td>\n",
       "      <td>Allison, Miss Helen Loraine</td>\n",
       "      <td>1st</td>\n",
       "      <td>2.00</td>\n",
       "      <td>female</td>\n",
       "      <td>0</td>\n",
       "      <td>1</td>\n",
       "    </tr>\n",
       "    <tr>\n",
       "      <th>2</th>\n",
       "      <td>3</td>\n",
       "      <td>Allison, Mr Hudson Joshua Creighton</td>\n",
       "      <td>1st</td>\n",
       "      <td>30.00</td>\n",
       "      <td>male</td>\n",
       "      <td>0</td>\n",
       "      <td>0</td>\n",
       "    </tr>\n",
       "    <tr>\n",
       "      <th>3</th>\n",
       "      <td>4</td>\n",
       "      <td>Allison, Mrs Hudson JC (Bessie Waldo Daniels)</td>\n",
       "      <td>1st</td>\n",
       "      <td>25.00</td>\n",
       "      <td>female</td>\n",
       "      <td>0</td>\n",
       "      <td>1</td>\n",
       "    </tr>\n",
       "    <tr>\n",
       "      <th>4</th>\n",
       "      <td>5</td>\n",
       "      <td>Allison, Master Hudson Trevor</td>\n",
       "      <td>1st</td>\n",
       "      <td>0.92</td>\n",
       "      <td>male</td>\n",
       "      <td>1</td>\n",
       "      <td>0</td>\n",
       "    </tr>\n",
       "    <tr>\n",
       "      <th>...</th>\n",
       "      <td>...</td>\n",
       "      <td>...</td>\n",
       "      <td>...</td>\n",
       "      <td>...</td>\n",
       "      <td>...</td>\n",
       "      <td>...</td>\n",
       "      <td>...</td>\n",
       "    </tr>\n",
       "    <tr>\n",
       "      <th>1308</th>\n",
       "      <td>1309</td>\n",
       "      <td>Zakarian, Mr Artun</td>\n",
       "      <td>3rd</td>\n",
       "      <td>27.00</td>\n",
       "      <td>male</td>\n",
       "      <td>0</td>\n",
       "      <td>0</td>\n",
       "    </tr>\n",
       "    <tr>\n",
       "      <th>1309</th>\n",
       "      <td>1310</td>\n",
       "      <td>Zakarian, Mr Maprieder</td>\n",
       "      <td>3rd</td>\n",
       "      <td>26.00</td>\n",
       "      <td>male</td>\n",
       "      <td>0</td>\n",
       "      <td>0</td>\n",
       "    </tr>\n",
       "    <tr>\n",
       "      <th>1310</th>\n",
       "      <td>1311</td>\n",
       "      <td>Zenni, Mr Philip</td>\n",
       "      <td>3rd</td>\n",
       "      <td>22.00</td>\n",
       "      <td>male</td>\n",
       "      <td>0</td>\n",
       "      <td>0</td>\n",
       "    </tr>\n",
       "    <tr>\n",
       "      <th>1311</th>\n",
       "      <td>1312</td>\n",
       "      <td>Lievens, Mr Rene</td>\n",
       "      <td>3rd</td>\n",
       "      <td>24.00</td>\n",
       "      <td>male</td>\n",
       "      <td>0</td>\n",
       "      <td>0</td>\n",
       "    </tr>\n",
       "    <tr>\n",
       "      <th>1312</th>\n",
       "      <td>1313</td>\n",
       "      <td>Zimmerman, Leo</td>\n",
       "      <td>3rd</td>\n",
       "      <td>29.00</td>\n",
       "      <td>male</td>\n",
       "      <td>0</td>\n",
       "      <td>0</td>\n",
       "    </tr>\n",
       "  </tbody>\n",
       "</table>\n",
       "<p>1313 rows × 7 columns</p>\n",
       "</div>"
      ],
      "text/plain": [
       "      Unnamed: 0                                           Name PClass    Age  \\\n",
       "0              1                   Allen, Miss Elisabeth Walton    1st  29.00   \n",
       "1              2                    Allison, Miss Helen Loraine    1st   2.00   \n",
       "2              3            Allison, Mr Hudson Joshua Creighton    1st  30.00   \n",
       "3              4  Allison, Mrs Hudson JC (Bessie Waldo Daniels)    1st  25.00   \n",
       "4              5                  Allison, Master Hudson Trevor    1st   0.92   \n",
       "...          ...                                            ...    ...    ...   \n",
       "1308        1309                             Zakarian, Mr Artun    3rd  27.00   \n",
       "1309        1310                         Zakarian, Mr Maprieder    3rd  26.00   \n",
       "1310        1311                               Zenni, Mr Philip    3rd  22.00   \n",
       "1311        1312                               Lievens, Mr Rene    3rd  24.00   \n",
       "1312        1313                                 Zimmerman, Leo    3rd  29.00   \n",
       "\n",
       "         Sex  Survived  SexCode  \n",
       "0     female         1        1  \n",
       "1     female         0        1  \n",
       "2       male         0        0  \n",
       "3     female         0        1  \n",
       "4       male         1        0  \n",
       "...      ...       ...      ...  \n",
       "1308    male         0        0  \n",
       "1309    male         0        0  \n",
       "1310    male         0        0  \n",
       "1311    male         0        0  \n",
       "1312    male         0        0  \n",
       "\n",
       "[1313 rows x 7 columns]"
      ]
     },
     "execution_count": 1,
     "metadata": {},
     "output_type": "execute_result"
    }
   ],
   "source": [
    "# import pandas\n",
    "import pandas as pd\n",
    "\n",
    "# import titanic dataset\n",
    "df = pd.read_csv('data/titanic.csv')\n",
    "df"
   ]
  },
  {
   "cell_type": "markdown",
   "id": "f7a35f96-9fbd-477c-894c-657fa10ebd7f",
   "metadata": {},
   "source": [
    "## 2. Quick EDA"
   ]
  },
  {
   "cell_type": "code",
   "execution_count": 2,
   "id": "8218e741-1622-488f-9be6-198dcd04bf14",
   "metadata": {},
   "outputs": [
    {
     "data": {
      "text/plain": [
       "array([1, 0])"
      ]
     },
     "execution_count": 2,
     "metadata": {},
     "output_type": "execute_result"
    }
   ],
   "source": [
    "# categorical nominal\n",
    "df['SexCode'].unique()"
   ]
  },
  {
   "cell_type": "code",
   "execution_count": 3,
   "id": "84522d7a-1755-4d3f-b08b-9c2960e8f768",
   "metadata": {},
   "outputs": [
    {
     "data": {
      "text/plain": [
       "array(['1st', '2nd', '*', '3rd'], dtype=object)"
      ]
     },
     "execution_count": 3,
     "metadata": {},
     "output_type": "execute_result"
    }
   ],
   "source": [
    "# categorical ordinal\n",
    "df['PClass'].unique()"
   ]
  },
  {
   "cell_type": "code",
   "execution_count": 4,
   "id": "fbe6f960-8f3c-4cdd-8178-2da0754aa6c3",
   "metadata": {},
   "outputs": [
    {
     "data": {
      "text/html": [
       "<div>\n",
       "<style scoped>\n",
       "    .dataframe tbody tr th:only-of-type {\n",
       "        vertical-align: middle;\n",
       "    }\n",
       "\n",
       "    .dataframe tbody tr th {\n",
       "        vertical-align: top;\n",
       "    }\n",
       "\n",
       "    .dataframe thead th {\n",
       "        text-align: right;\n",
       "    }\n",
       "</style>\n",
       "<table border=\"1\" class=\"dataframe\">\n",
       "  <thead>\n",
       "    <tr style=\"text-align: right;\">\n",
       "      <th></th>\n",
       "      <th>Unnamed: 0</th>\n",
       "      <th>Name</th>\n",
       "      <th>PClass</th>\n",
       "      <th>Age</th>\n",
       "      <th>Sex</th>\n",
       "      <th>Survived</th>\n",
       "      <th>SexCode</th>\n",
       "    </tr>\n",
       "  </thead>\n",
       "  <tbody>\n",
       "    <tr>\n",
       "      <th>count</th>\n",
       "      <td>1313.000000</td>\n",
       "      <td>1313</td>\n",
       "      <td>1313</td>\n",
       "      <td>756.000000</td>\n",
       "      <td>1313</td>\n",
       "      <td>1313.000000</td>\n",
       "      <td>1313.000000</td>\n",
       "    </tr>\n",
       "    <tr>\n",
       "      <th>unique</th>\n",
       "      <td>NaN</td>\n",
       "      <td>1310</td>\n",
       "      <td>4</td>\n",
       "      <td>NaN</td>\n",
       "      <td>2</td>\n",
       "      <td>NaN</td>\n",
       "      <td>NaN</td>\n",
       "    </tr>\n",
       "    <tr>\n",
       "      <th>top</th>\n",
       "      <td>NaN</td>\n",
       "      <td>Connolly, Miss Kate</td>\n",
       "      <td>3rd</td>\n",
       "      <td>NaN</td>\n",
       "      <td>male</td>\n",
       "      <td>NaN</td>\n",
       "      <td>NaN</td>\n",
       "    </tr>\n",
       "    <tr>\n",
       "      <th>freq</th>\n",
       "      <td>NaN</td>\n",
       "      <td>2</td>\n",
       "      <td>711</td>\n",
       "      <td>NaN</td>\n",
       "      <td>851</td>\n",
       "      <td>NaN</td>\n",
       "      <td>NaN</td>\n",
       "    </tr>\n",
       "    <tr>\n",
       "      <th>mean</th>\n",
       "      <td>657.000000</td>\n",
       "      <td>NaN</td>\n",
       "      <td>NaN</td>\n",
       "      <td>30.397989</td>\n",
       "      <td>NaN</td>\n",
       "      <td>0.342727</td>\n",
       "      <td>0.351866</td>\n",
       "    </tr>\n",
       "    <tr>\n",
       "      <th>std</th>\n",
       "      <td>379.174762</td>\n",
       "      <td>NaN</td>\n",
       "      <td>NaN</td>\n",
       "      <td>14.259049</td>\n",
       "      <td>NaN</td>\n",
       "      <td>0.474802</td>\n",
       "      <td>0.477734</td>\n",
       "    </tr>\n",
       "    <tr>\n",
       "      <th>min</th>\n",
       "      <td>1.000000</td>\n",
       "      <td>NaN</td>\n",
       "      <td>NaN</td>\n",
       "      <td>0.170000</td>\n",
       "      <td>NaN</td>\n",
       "      <td>0.000000</td>\n",
       "      <td>0.000000</td>\n",
       "    </tr>\n",
       "    <tr>\n",
       "      <th>25%</th>\n",
       "      <td>329.000000</td>\n",
       "      <td>NaN</td>\n",
       "      <td>NaN</td>\n",
       "      <td>21.000000</td>\n",
       "      <td>NaN</td>\n",
       "      <td>0.000000</td>\n",
       "      <td>0.000000</td>\n",
       "    </tr>\n",
       "    <tr>\n",
       "      <th>50%</th>\n",
       "      <td>657.000000</td>\n",
       "      <td>NaN</td>\n",
       "      <td>NaN</td>\n",
       "      <td>28.000000</td>\n",
       "      <td>NaN</td>\n",
       "      <td>0.000000</td>\n",
       "      <td>0.000000</td>\n",
       "    </tr>\n",
       "    <tr>\n",
       "      <th>75%</th>\n",
       "      <td>985.000000</td>\n",
       "      <td>NaN</td>\n",
       "      <td>NaN</td>\n",
       "      <td>39.000000</td>\n",
       "      <td>NaN</td>\n",
       "      <td>1.000000</td>\n",
       "      <td>1.000000</td>\n",
       "    </tr>\n",
       "    <tr>\n",
       "      <th>max</th>\n",
       "      <td>1313.000000</td>\n",
       "      <td>NaN</td>\n",
       "      <td>NaN</td>\n",
       "      <td>71.000000</td>\n",
       "      <td>NaN</td>\n",
       "      <td>1.000000</td>\n",
       "      <td>1.000000</td>\n",
       "    </tr>\n",
       "  </tbody>\n",
       "</table>\n",
       "</div>"
      ],
      "text/plain": [
       "         Unnamed: 0                 Name PClass         Age   Sex  \\\n",
       "count   1313.000000                 1313   1313  756.000000  1313   \n",
       "unique          NaN                 1310      4         NaN     2   \n",
       "top             NaN  Connolly, Miss Kate    3rd         NaN  male   \n",
       "freq            NaN                    2    711         NaN   851   \n",
       "mean     657.000000                  NaN    NaN   30.397989   NaN   \n",
       "std      379.174762                  NaN    NaN   14.259049   NaN   \n",
       "min        1.000000                  NaN    NaN    0.170000   NaN   \n",
       "25%      329.000000                  NaN    NaN   21.000000   NaN   \n",
       "50%      657.000000                  NaN    NaN   28.000000   NaN   \n",
       "75%      985.000000                  NaN    NaN   39.000000   NaN   \n",
       "max     1313.000000                  NaN    NaN   71.000000   NaN   \n",
       "\n",
       "           Survived      SexCode  \n",
       "count   1313.000000  1313.000000  \n",
       "unique          NaN          NaN  \n",
       "top             NaN          NaN  \n",
       "freq            NaN          NaN  \n",
       "mean       0.342727     0.351866  \n",
       "std        0.474802     0.477734  \n",
       "min        0.000000     0.000000  \n",
       "25%        0.000000     0.000000  \n",
       "50%        0.000000     0.000000  \n",
       "75%        1.000000     1.000000  \n",
       "max        1.000000     1.000000  "
      ]
     },
     "execution_count": 4,
     "metadata": {},
     "output_type": "execute_result"
    }
   ],
   "source": [
    "# descriptive statistics\n",
    "df.describe(include='all')"
   ]
  },
  {
   "cell_type": "code",
   "execution_count": 5,
   "id": "ed41fd12-7395-41b3-928f-059667874c7e",
   "metadata": {},
   "outputs": [
    {
     "name": "stdout",
     "output_type": "stream",
     "text": [
      "<class 'pandas.core.frame.DataFrame'>\n",
      "RangeIndex: 1313 entries, 0 to 1312\n",
      "Data columns (total 7 columns):\n",
      " #   Column      Non-Null Count  Dtype  \n",
      "---  ------      --------------  -----  \n",
      " 0   Unnamed: 0  1313 non-null   int64  \n",
      " 1   Name        1313 non-null   object \n",
      " 2   PClass      1313 non-null   object \n",
      " 3   Age         756 non-null    float64\n",
      " 4   Sex         1313 non-null   object \n",
      " 5   Survived    1313 non-null   int64  \n",
      " 6   SexCode     1313 non-null   int64  \n",
      "dtypes: float64(1), int64(3), object(3)\n",
      "memory usage: 71.9+ KB\n"
     ]
    }
   ],
   "source": [
    "# info on dataset\n",
    "df.info()"
   ]
  },
  {
   "cell_type": "markdown",
   "id": "08d39501-293a-447f-a27a-794626fdcef9",
   "metadata": {},
   "source": [
    "### 2.1 Remove missing values"
   ]
  },
  {
   "cell_type": "code",
   "execution_count": 6,
   "id": "6208625e-7314-4696-b0bf-a05e1ad1c813",
   "metadata": {},
   "outputs": [],
   "source": [
    "# remove * missing cabin class\n",
    "df = df[df['PClass'] != '*']"
   ]
  },
  {
   "cell_type": "code",
   "execution_count": 7,
   "id": "0ad0af03-37fb-41c2-9b05-54b713c488ae",
   "metadata": {},
   "outputs": [
    {
     "data": {
      "text/plain": [
       "array(['1st', '2nd', '3rd'], dtype=object)"
      ]
     },
     "execution_count": 7,
     "metadata": {},
     "output_type": "execute_result"
    }
   ],
   "source": [
    "# check if PClass is now clean\n",
    "df['PClass'].unique()"
   ]
  },
  {
   "cell_type": "code",
   "execution_count": 8,
   "id": "4714e528-d17a-4e4c-8de0-a551bd45078e",
   "metadata": {},
   "outputs": [],
   "source": [
    "# remove NULL values\n",
    "df_nonull = df[[\"PClass\", \"Age\"]].dropna()"
   ]
  },
  {
   "cell_type": "code",
   "execution_count": 9,
   "id": "fdd4d8f8-6664-49db-ac81-bc5b9a0e8fc1",
   "metadata": {},
   "outputs": [
    {
     "data": {
      "text/plain": [
       "(756, 2)"
      ]
     },
     "execution_count": 9,
     "metadata": {},
     "output_type": "execute_result"
    }
   ],
   "source": [
    "# check new shape\n",
    "df_nonull.shape"
   ]
  },
  {
   "cell_type": "markdown",
   "id": "2d2610c2-2f71-4e84-9fa9-16425bb39e0e",
   "metadata": {},
   "source": [
    "## 3. Is passenger gender and cabin class related?"
   ]
  },
  {
   "cell_type": "markdown",
   "id": "b2639206-c8f4-492e-90f4-c0129b20b320",
   "metadata": {},
   "source": [
    "### 3.1 Normal distribution check"
   ]
  },
  {
   "cell_type": "code",
   "execution_count": 10,
   "id": "317b6a39-ddb7-42e3-89d6-6b4db2b20a95",
   "metadata": {},
   "outputs": [
    {
     "data": {
      "text/plain": [
       "ShapiroResult(statistic=0.9784689545631409, pvalue=4.15032630485257e-09)"
      ]
     },
     "execution_count": 10,
     "metadata": {},
     "output_type": "execute_result"
    }
   ],
   "source": [
    "# check if observations have an approximately normal distribution\n",
    "\n",
    "# import shapiro\n",
    "from scipy.stats import shapiro\n",
    "\n",
    "# shapiro\n",
    "shapiro(df_nonull[\"Age\"])"
   ]
  },
  {
   "cell_type": "code",
   "execution_count": 11,
   "id": "b1a9fd83-32c7-4ef9-812e-cdc4d37817a0",
   "metadata": {},
   "outputs": [],
   "source": [
    "# p_value < alpha\n",
    "# it's not normally distributed\n",
    "# therefore it's non-parametric"
   ]
  },
  {
   "cell_type": "markdown",
   "id": "09264dba-3bed-478f-aad0-4fc855c2fb76",
   "metadata": {},
   "source": [
    "### 3.2 Run hypothesis test"
   ]
  },
  {
   "cell_type": "code",
   "execution_count": 12,
   "id": "8bcf1e7f-f872-4c79-893b-c056bcf8daca",
   "metadata": {},
   "outputs": [
    {
     "data": {
      "text/plain": [
       "KruskalResult(statistic=1051.907060470326, pvalue=9.371812053548873e-231)"
      ]
     },
     "execution_count": 12,
     "metadata": {},
     "output_type": "execute_result"
    }
   ],
   "source": [
    "# convert PClass strings into integers\n",
    "p_class = df_nonull['PClass'].replace({'1st' : 1, '2nd' : 2, '3rd': 3})\n",
    "\n",
    "# import mstats\n",
    "from scipy.stats import mstats\n",
    "\n",
    "# get p-value\n",
    "mstats.kruskalwallis(list(p_class), list(df_nonull['Age'].values))"
   ]
  },
  {
   "cell_type": "code",
   "execution_count": 13,
   "id": "04887fe0-21b3-4f36-8f7b-63bb23768f96",
   "metadata": {},
   "outputs": [],
   "source": [
    "# p_value < alpha\n",
    "# reject H0\n",
    "# there is a significant difference between the distriubtion of gender across cabin classes"
   ]
  },
  {
   "cell_type": "markdown",
   "id": "479b49c6-4344-46c1-86ad-b42deb1dfd1d",
   "metadata": {},
   "source": [
    "## 4. Does the age of passengers vary across cabin classes?"
   ]
  },
  {
   "cell_type": "code",
   "execution_count": 14,
   "id": "efdd9de9-446c-43b5-ac08-6bedf0077696",
   "metadata": {},
   "outputs": [
    {
     "data": {
      "text/html": [
       "<div>\n",
       "<style scoped>\n",
       "    .dataframe tbody tr th:only-of-type {\n",
       "        vertical-align: middle;\n",
       "    }\n",
       "\n",
       "    .dataframe tbody tr th {\n",
       "        vertical-align: top;\n",
       "    }\n",
       "\n",
       "    .dataframe thead th {\n",
       "        text-align: right;\n",
       "    }\n",
       "</style>\n",
       "<table border=\"1\" class=\"dataframe\">\n",
       "  <thead>\n",
       "    <tr style=\"text-align: right;\">\n",
       "      <th>Age</th>\n",
       "      <th>0.17</th>\n",
       "      <th>0.33</th>\n",
       "      <th>0.8</th>\n",
       "      <th>0.83</th>\n",
       "      <th>0.92</th>\n",
       "      <th>1.0</th>\n",
       "      <th>1.5</th>\n",
       "      <th>2.0</th>\n",
       "      <th>3.0</th>\n",
       "      <th>4.0</th>\n",
       "      <th>...</th>\n",
       "      <th>61.0</th>\n",
       "      <th>62.0</th>\n",
       "      <th>63.0</th>\n",
       "      <th>64.0</th>\n",
       "      <th>65.0</th>\n",
       "      <th>67.0</th>\n",
       "      <th>69.0</th>\n",
       "      <th>70.0</th>\n",
       "      <th>71.0</th>\n",
       "      <th>All</th>\n",
       "    </tr>\n",
       "    <tr>\n",
       "      <th>PClass</th>\n",
       "      <th></th>\n",
       "      <th></th>\n",
       "      <th></th>\n",
       "      <th></th>\n",
       "      <th></th>\n",
       "      <th></th>\n",
       "      <th></th>\n",
       "      <th></th>\n",
       "      <th></th>\n",
       "      <th></th>\n",
       "      <th></th>\n",
       "      <th></th>\n",
       "      <th></th>\n",
       "      <th></th>\n",
       "      <th></th>\n",
       "      <th></th>\n",
       "      <th></th>\n",
       "      <th></th>\n",
       "      <th></th>\n",
       "      <th></th>\n",
       "      <th></th>\n",
       "    </tr>\n",
       "  </thead>\n",
       "  <tbody>\n",
       "    <tr>\n",
       "      <th>1st</th>\n",
       "      <td>0</td>\n",
       "      <td>0</td>\n",
       "      <td>0</td>\n",
       "      <td>0</td>\n",
       "      <td>1</td>\n",
       "      <td>0</td>\n",
       "      <td>0</td>\n",
       "      <td>1</td>\n",
       "      <td>0</td>\n",
       "      <td>1</td>\n",
       "      <td>...</td>\n",
       "      <td>3</td>\n",
       "      <td>2</td>\n",
       "      <td>2</td>\n",
       "      <td>5</td>\n",
       "      <td>1</td>\n",
       "      <td>1</td>\n",
       "      <td>1</td>\n",
       "      <td>1</td>\n",
       "      <td>2</td>\n",
       "      <td>226</td>\n",
       "    </tr>\n",
       "    <tr>\n",
       "      <th>2nd</th>\n",
       "      <td>0</td>\n",
       "      <td>0</td>\n",
       "      <td>1</td>\n",
       "      <td>1</td>\n",
       "      <td>0</td>\n",
       "      <td>3</td>\n",
       "      <td>0</td>\n",
       "      <td>4</td>\n",
       "      <td>3</td>\n",
       "      <td>2</td>\n",
       "      <td>...</td>\n",
       "      <td>0</td>\n",
       "      <td>0</td>\n",
       "      <td>0</td>\n",
       "      <td>1</td>\n",
       "      <td>0</td>\n",
       "      <td>0</td>\n",
       "      <td>0</td>\n",
       "      <td>0</td>\n",
       "      <td>1</td>\n",
       "      <td>212</td>\n",
       "    </tr>\n",
       "    <tr>\n",
       "      <th>3rd</th>\n",
       "      <td>1</td>\n",
       "      <td>1</td>\n",
       "      <td>0</td>\n",
       "      <td>1</td>\n",
       "      <td>0</td>\n",
       "      <td>2</td>\n",
       "      <td>2</td>\n",
       "      <td>2</td>\n",
       "      <td>3</td>\n",
       "      <td>4</td>\n",
       "      <td>...</td>\n",
       "      <td>0</td>\n",
       "      <td>0</td>\n",
       "      <td>1</td>\n",
       "      <td>0</td>\n",
       "      <td>1</td>\n",
       "      <td>0</td>\n",
       "      <td>0</td>\n",
       "      <td>0</td>\n",
       "      <td>0</td>\n",
       "      <td>318</td>\n",
       "    </tr>\n",
       "    <tr>\n",
       "      <th>All</th>\n",
       "      <td>1</td>\n",
       "      <td>1</td>\n",
       "      <td>1</td>\n",
       "      <td>2</td>\n",
       "      <td>1</td>\n",
       "      <td>5</td>\n",
       "      <td>2</td>\n",
       "      <td>7</td>\n",
       "      <td>6</td>\n",
       "      <td>7</td>\n",
       "      <td>...</td>\n",
       "      <td>3</td>\n",
       "      <td>2</td>\n",
       "      <td>3</td>\n",
       "      <td>6</td>\n",
       "      <td>2</td>\n",
       "      <td>1</td>\n",
       "      <td>1</td>\n",
       "      <td>1</td>\n",
       "      <td>3</td>\n",
       "      <td>756</td>\n",
       "    </tr>\n",
       "  </tbody>\n",
       "</table>\n",
       "<p>4 rows × 76 columns</p>\n",
       "</div>"
      ],
      "text/plain": [
       "Age     0.17  0.33  0.8  0.83  0.92  1.0  1.5  2.0  3.0  4.0  ...  61.0  62.0  \\\n",
       "PClass                                                        ...               \n",
       "1st        0     0    0     0     1    0    0    1    0    1  ...     3     2   \n",
       "2nd        0     0    1     1     0    3    0    4    3    2  ...     0     0   \n",
       "3rd        1     1    0     1     0    2    2    2    3    4  ...     0     0   \n",
       "All        1     1    1     2     1    5    2    7    6    7  ...     3     2   \n",
       "\n",
       "Age     63.0  64.0  65.0  67.0  69.0  70.0  71.0  All  \n",
       "PClass                                                 \n",
       "1st        2     5     1     1     1     1     2  226  \n",
       "2nd        0     1     0     0     0     0     1  212  \n",
       "3rd        1     0     1     0     0     0     0  318  \n",
       "All        3     6     2     1     1     1     3  756  \n",
       "\n",
       "[4 rows x 76 columns]"
      ]
     },
     "execution_count": 14,
     "metadata": {},
     "output_type": "execute_result"
    }
   ],
   "source": [
    "# compute count (frequency) of factors\n",
    "pd.crosstab(df.PClass, df.Age, margins=True)"
   ]
  },
  {
   "cell_type": "code",
   "execution_count": 15,
   "id": "639e5dbe-2a86-41cf-9ce6-20b7d9074cc3",
   "metadata": {},
   "outputs": [
    {
     "data": {
      "text/plain": [
       "KruskalResult(statistic=1370.253908557283, pvalue=6.11459253796056e-300)"
      ]
     },
     "execution_count": 15,
     "metadata": {},
     "output_type": "execute_result"
    }
   ],
   "source": [
    "# convert PClass strings into integers\n",
    "p_class = map(lambda x: int(x[0]), df['PClass'].values)\n",
    "\n",
    "# get p-value\n",
    "mstats.kruskalwallis(list(p_class), list(df['Age'].values))"
   ]
  },
  {
   "cell_type": "code",
   "execution_count": 16,
   "id": "30aa4a56-1b70-4ba0-9512-951bbdfcc9fd",
   "metadata": {},
   "outputs": [],
   "source": [
    "# p_value < alpha\n",
    "# reject H0\n",
    "# there is a significant difference between the distribution of age across cabin classes"
   ]
  },
  {
   "cell_type": "markdown",
   "id": "d7a02bd9-2478-4cc4-a5f0-718d075b8b6f",
   "metadata": {},
   "source": [
    "## 5. Were the passengers who survived older or younger than those who did not?"
   ]
  },
  {
   "cell_type": "code",
   "execution_count": 17,
   "id": "0435d974-70ec-4a5f-b94c-7b12f5777825",
   "metadata": {},
   "outputs": [],
   "source": [
    "# drop null values\n",
    "df = df.dropna()"
   ]
  },
  {
   "cell_type": "code",
   "execution_count": 18,
   "id": "6107bea8-0205-477b-81fa-1ae67cfc3e5f",
   "metadata": {},
   "outputs": [
    {
     "data": {
      "image/png": "[encoded data removed]",
      "text/plain": [
       "<Figure size 640x480 with 1 Axes>"
      ]
     },
     "metadata": {},
     "output_type": "display_data"
    }
   ],
   "source": [
    "# import matplotlib\n",
    "import matplotlib.pyplot as plt\n",
    "\n",
    "# show survivors age count\n",
    "df_survivors = df[df['Survived'] == 1]\n",
    "plt.hist(df_survivors['Age'].dropna())\n",
    "plt.ylabel('Frequency')\n",
    "plt.xlabel('Age')\n",
    "plt.title('Age of Survivors')\n",
    "plt.show()"
   ]
  },
  {
   "cell_type": "code",
   "execution_count": 19,
   "id": "308ea10d-e3ff-4812-963d-3438c319e890",
   "metadata": {},
   "outputs": [
    {
     "data": {
      "image/png": "[encoded data removed]",
      "text/plain": [
       "<Figure size 640x480 with 1 Axes>"
      ]
     },
     "metadata": {},
     "output_type": "display_data"
    }
   ],
   "source": [
    "# show deceased age count\n",
    "df_deceased = df[df['Survived'] == 0]\n",
    "plt.hist(df_deceased['Age'].dropna())\n",
    "plt.ylabel('Frequency')\n",
    "plt.xlabel('Age')\n",
    "plt.title('Age of Deceased')\n",
    "plt.show()"
   ]
  },
  {
   "cell_type": "markdown",
   "id": "c5e91511-c645-4029-a7a9-ed70b761a82f",
   "metadata": {},
   "source": [
    "### 5.1 Normal distribution check"
   ]
  },
  {
   "cell_type": "code",
   "execution_count": 20,
   "id": "fe3f57af-2296-45da-bae7-179cfc0cb465",
   "metadata": {},
   "outputs": [
    {
     "data": {
      "text/plain": [
       "(0.0004997574724256992, 1.4614509602495218e-09)"
      ]
     },
     "execution_count": 20,
     "metadata": {},
     "output_type": "execute_result"
    }
   ],
   "source": [
    "# check if observations have an approximately normal distribution\n",
    "\n",
    "stat1, p_value_surv = shapiro(df_survivors['Age'])\n",
    "stat2, p_value_dec = shapiro(df_deceased['Age'])\n",
    "p_value_surv, p_value_dec"
   ]
  },
  {
   "cell_type": "code",
   "execution_count": 21,
   "id": "22ca1b5b-37d8-404c-89ed-c71b6bf2fefd",
   "metadata": {},
   "outputs": [],
   "source": [
    "# p_value < alpha\n",
    "# reject H0\n",
    "# it's not normally distributed\n",
    "# therefore it's non-parametric"
   ]
  },
  {
   "cell_type": "markdown",
   "id": "c562e461-6d03-41b4-a552-cc6f4881766f",
   "metadata": {},
   "source": [
    "### 5.2 Not normally distributed -> run t-test"
   ]
  },
  {
   "cell_type": "code",
   "execution_count": 22,
   "id": "ed2902cf-9d54-4ddb-8b7e-ddab87152afb",
   "metadata": {},
   "outputs": [],
   "source": [
    "# import numpy\n",
    "import numpy as np\n",
    "\n",
    "# var and number of survivors\n",
    "v_ratio = np.var(df_survivors['Age'], ddof=1)/np.var(df_deceased['Age'], ddof=1)\n",
    "n=df_survivors.shape[0]"
   ]
  },
  {
   "cell_type": "code",
   "execution_count": 23,
   "id": "f5c47b6f-3211-40e2-bb55-57657aa1eb13",
   "metadata": {},
   "outputs": [
    {
     "data": {
      "text/plain": [
       "0.1916806692683456"
      ]
     },
     "execution_count": 23,
     "metadata": {},
     "output_type": "execute_result"
    }
   ],
   "source": [
    "# import mannwhiteneyu\n",
    "from scipy.stats import mannwhitneyu\n",
    "\n",
    "# run test\n",
    "stat, p_value = mannwhitneyu(df_survivors['Age'], df_deceased['Age'])\n",
    "p_value"
   ]
  },
  {
   "cell_type": "code",
   "execution_count": 24,
   "id": "5cb23366-87bd-41a8-a71e-b50f66bfaef4",
   "metadata": {},
   "outputs": [],
   "source": [
    "# p_value > alpha\n",
    "# fail to reject H0"
   ]
  },
  {
   "cell_type": "code",
   "execution_count": 25,
   "id": "a7162bfb-894b-40e4-a384-f71a66ef550f",
   "metadata": {},
   "outputs": [
    {
     "data": {
      "text/plain": [
       "ShapiroResult(statistic=0.9816868305206299, pvalue=0.0004997574724256992)"
      ]
     },
     "execution_count": 25,
     "metadata": {},
     "output_type": "execute_result"
    }
   ],
   "source": [
    "# drop NULL values (survivors)\n",
    "# check if observations have an approximately normal distribution (age of survivors)\n",
    "shapiro(df_survivors.dropna()[\"Age\"])"
   ]
  },
  {
   "cell_type": "code",
   "execution_count": 26,
   "id": "917749a4-47f9-4194-815d-63721a0890f9",
   "metadata": {},
   "outputs": [],
   "source": [
    "# p_value < alpha\n",
    "# reject H0\n",
    "# it's not normally distributed\n",
    "# therefore it's non-parametric"
   ]
  },
  {
   "cell_type": "code",
   "execution_count": 27,
   "id": "a4c7b3c1-a3b9-4567-8d0c-9f546b0822fb",
   "metadata": {},
   "outputs": [
    {
     "data": {
      "text/plain": [
       "ShapiroResult(statistic=0.9603029489517212, pvalue=1.4614509602495218e-09)"
      ]
     },
     "execution_count": 27,
     "metadata": {},
     "output_type": "execute_result"
    }
   ],
   "source": [
    "# drop NULL values (deceased)\n",
    "# check if observations have an approximately normal distribution (age of deceased)\n",
    "\n",
    "shapiro(df_deceased.dropna()[\"Age\"])"
   ]
  },
  {
   "cell_type": "code",
   "execution_count": 28,
   "id": "ba1e46df-4b8f-43a4-a51c-1ba74c3e059e",
   "metadata": {},
   "outputs": [
    {
     "data": {
      "text/plain": [
       "KruskalResult(statistic=1.705094030058628, pvalue=0.1916231342620048)"
      ]
     },
     "execution_count": 28,
     "metadata": {},
     "output_type": "execute_result"
    }
   ],
   "source": [
    "# final test\n",
    "mstats.kruskalwallis(list(df_survivors.dropna()[\"Age\"].values), list(df_deceased.dropna()[\"Age\"].values))"
   ]
  },
  {
   "cell_type": "code",
   "execution_count": 29,
   "id": "52fcfc8e-c923-4bf5-9482-f86fed49688a",
   "metadata": {},
   "outputs": [],
   "source": [
    "# p_value > alpha\n",
    "# fail to reject H0\n",
    "# there is a no significant difference between the age of the survivors"
   ]
  },
  {
   "cell_type": "markdown",
   "id": "804b950a-f908-4752-8ee9-67cf422e361d",
   "metadata": {},
   "source": [
    "## 6. Were men older than women on average?"
   ]
  },
  {
   "cell_type": "markdown",
   "id": "f037e114-fca8-4188-b05e-f987fee8906d",
   "metadata": {},
   "source": [
    "### 6.1 Gender outlook"
   ]
  },
  {
   "cell_type": "code",
   "execution_count": 30,
   "id": "1ce8cf08-8537-486a-a085-919a8398cc03",
   "metadata": {},
   "outputs": [
    {
     "data": {
      "image/png": "[encoded data removed]",
      "text/plain": [
       "<Figure size 640x480 with 1 Axes>"
      ]
     },
     "metadata": {},
     "output_type": "display_data"
    }
   ],
   "source": [
    "# women age count\n",
    "df_women = df[df['Sex'] == \"female\"]\n",
    "plt.hist(df_women['Age'])\n",
    "plt.ylabel('Frequency')\n",
    "plt.xlabel('Age')\n",
    "plt.title('Age of Women')\n",
    "plt.show()"
   ]
  },
  {
   "cell_type": "code",
   "execution_count": 31,
   "id": "9f61fd3e-e74c-4598-b104-f1626faec32d",
   "metadata": {},
   "outputs": [
    {
     "data": {
      "image/png": "[encoded data removed]",
      "text/plain": [
       "<Figure size 640x480 with 1 Axes>"
      ]
     },
     "metadata": {},
     "output_type": "display_data"
    }
   ],
   "source": [
    "# men age count\n",
    "df_men = df[df['Sex'] == 'male']\n",
    "plt.hist(df_men['Age'])\n",
    "plt.ylabel('Frequency')\n",
    "plt.xlabel('Age')\n",
    "plt.title('Age of Men')\n",
    "plt.show()"
   ]
  },
  {
   "cell_type": "code",
   "execution_count": 32,
   "id": "36ce5848-a757-4f68-96a5-f611a458d02a",
   "metadata": {},
   "outputs": [
    {
     "data": {
      "text/plain": [
       "ShapiroResult(statistic=0.9780285358428955, pvalue=0.0002067548339255154)"
      ]
     },
     "execution_count": 32,
     "metadata": {},
     "output_type": "execute_result"
    }
   ],
   "source": [
    "# drop NULL values (women)\n",
    "# check if observations have an approximately normal distribution (age of women)\n",
    "shapiro(df_women.dropna()[\"Age\"])"
   ]
  },
  {
   "cell_type": "code",
   "execution_count": 33,
   "id": "41048a49-4d2b-48d9-83c4-352a850cb9cf",
   "metadata": {},
   "outputs": [],
   "source": [
    "# p_value < alpha\n",
    "# reject H0\n",
    "# it's not normally distributed\n",
    "# therefore it's non-parametric"
   ]
  },
  {
   "cell_type": "code",
   "execution_count": 34,
   "id": "b3363eef-21e0-4986-90b6-c9bbd64687e7",
   "metadata": {},
   "outputs": [
    {
     "data": {
      "text/plain": [
       "ShapiroResult(statistic=0.9732698202133179, pvalue=1.5184357948783145e-07)"
      ]
     },
     "execution_count": 34,
     "metadata": {},
     "output_type": "execute_result"
    }
   ],
   "source": [
    "# drop NULL values (men)\n",
    "# check if observations have an approximately normal distribution (age of men)\n",
    "shapiro(df_men.dropna()[\"Age\"])"
   ]
  },
  {
   "cell_type": "code",
   "execution_count": 35,
   "id": "8499f1ed-d035-4476-a958-d0a4cc0fcff1",
   "metadata": {},
   "outputs": [],
   "source": [
    "# p_value < alpha\n",
    "# reject H0\n",
    "# it's not normally distributed\n",
    "# therefore it's non-parametric"
   ]
  },
  {
   "cell_type": "code",
   "execution_count": 36,
   "id": "14c87316-bbc7-4812-a5f4-7f10ecc39d21",
   "metadata": {},
   "outputs": [
    {
     "data": {
      "text/plain": [
       "KruskalResult(statistic=3.2924415762245487, pvalue=0.06959945498042894)"
      ]
     },
     "execution_count": 36,
     "metadata": {},
     "output_type": "execute_result"
    }
   ],
   "source": [
    "# final test\n",
    "mstats.kruskalwallis(list(df_women.dropna()[\"Age\"].values), list(df_men.dropna()[\"Age\"].values))"
   ]
  },
  {
   "cell_type": "code",
   "execution_count": 37,
   "id": "15a62a5b-5b38-49ec-a39e-b8b46b958c11",
   "metadata": {},
   "outputs": [],
   "source": [
    "# p_value > alpha\n",
    "# fail to reject H0\n",
    "# there is a no significant difference between the age within men and whithin women"
   ]
  },
  {
   "cell_type": "markdown",
   "id": "e82880c1-53a6-4e6f-b865-ff6ad4adeac8",
   "metadata": {},
   "source": [
    "### 6.2 Significant difference between man and women age?"
   ]
  },
  {
   "cell_type": "code",
   "execution_count": 38,
   "id": "f1943195-99ec-4c69-9255-7bb24a2050d1",
   "metadata": {},
   "outputs": [],
   "source": [
    "# wilcoxon method"
   ]
  },
  {
   "cell_type": "code",
   "execution_count": 39,
   "id": "485c1d5a-370f-4504-b544-34569cabb71c",
   "metadata": {},
   "outputs": [
    {
     "data": {
      "text/plain": [
       "((288, 7), (468, 7))"
      ]
     },
     "execution_count": 39,
     "metadata": {},
     "output_type": "execute_result"
    }
   ],
   "source": [
    "# check shape\n",
    "df_women.shape, df_men.shape"
   ]
  },
  {
   "cell_type": "code",
   "execution_count": 40,
   "id": "dfcfbfd1-3fc5-4047-9167-d29b35c181ae",
   "metadata": {},
   "outputs": [
    {
     "data": {
      "text/html": [
       "<div>\n",
       "<style scoped>\n",
       "    .dataframe tbody tr th:only-of-type {\n",
       "        vertical-align: middle;\n",
       "    }\n",
       "\n",
       "    .dataframe tbody tr th {\n",
       "        vertical-align: top;\n",
       "    }\n",
       "\n",
       "    .dataframe thead th {\n",
       "        text-align: right;\n",
       "    }\n",
       "</style>\n",
       "<table border=\"1\" class=\"dataframe\">\n",
       "  <thead>\n",
       "    <tr style=\"text-align: right;\">\n",
       "      <th></th>\n",
       "      <th>Unnamed: 0</th>\n",
       "      <th>Name</th>\n",
       "      <th>PClass</th>\n",
       "      <th>Age</th>\n",
       "      <th>Sex</th>\n",
       "      <th>Survived</th>\n",
       "      <th>SexCode</th>\n",
       "    </tr>\n",
       "  </thead>\n",
       "  <tbody>\n",
       "    <tr>\n",
       "      <th>0</th>\n",
       "      <td>1</td>\n",
       "      <td>Allen, Miss Elisabeth Walton</td>\n",
       "      <td>1st</td>\n",
       "      <td>29.0</td>\n",
       "      <td>female</td>\n",
       "      <td>1</td>\n",
       "      <td>1</td>\n",
       "    </tr>\n",
       "  </tbody>\n",
       "</table>\n",
       "</div>"
      ],
      "text/plain": [
       "   Unnamed: 0                          Name PClass   Age     Sex  Survived  \\\n",
       "0           1  Allen, Miss Elisabeth Walton    1st  29.0  female         1   \n",
       "\n",
       "   SexCode  \n",
       "0        1  "
      ]
     },
     "execution_count": 40,
     "metadata": {},
     "output_type": "execute_result"
    }
   ],
   "source": [
    "# check df_women dataset format\n",
    "df_women.head(1)"
   ]
  },
  {
   "cell_type": "code",
   "execution_count": 41,
   "id": "f1e01916-b5f4-48f8-91f9-e3c929ebf12c",
   "metadata": {},
   "outputs": [
    {
     "data": {
      "text/plain": [
       "0       29.0\n",
       "1        2.0\n",
       "3       25.0\n",
       "6       63.0\n",
       "8       58.0\n",
       "        ... \n",
       "1276    10.0\n",
       "1278    30.0\n",
       "1283    14.0\n",
       "1293    45.0\n",
       "1304    15.0\n",
       "Name: Age, Length: 288, dtype: float64"
      ]
     },
     "execution_count": 41,
     "metadata": {},
     "output_type": "execute_result"
    }
   ],
   "source": [
    "# select df_women age (all rows)\n",
    "df_women['Age']"
   ]
  },
  {
   "cell_type": "code",
   "execution_count": 42,
   "id": "328c32b0-1ae2-4063-a2c9-e8d401f587a0",
   "metadata": {},
   "outputs": [
    {
     "data": {
      "text/plain": [
       "0       29.0\n",
       "1        2.0\n",
       "3       25.0\n",
       "6       63.0\n",
       "8       58.0\n",
       "        ... \n",
       "1276    10.0\n",
       "1278    30.0\n",
       "1283    14.0\n",
       "1293    45.0\n",
       "1304    15.0\n",
       "Name: Age, Length: 288, dtype: float64"
      ]
     },
     "execution_count": 42,
     "metadata": {},
     "output_type": "execute_result"
    }
   ],
   "source": [
    "# alternative method\n",
    "df_women.iloc[:, 3]"
   ]
  },
  {
   "cell_type": "code",
   "execution_count": 43,
   "id": "593dbffd-4fe4-438c-ad1a-ca2417e24757",
   "metadata": {},
   "outputs": [
    {
     "name": "stderr",
     "output_type": "stream",
     "text": [
      "/var/folders/q0/yzzvs92s18169djfs6dhj5lm0000gn/T/ipykernel_11740/930204261.py:10: SettingWithCopyWarning: \n",
      "A value is trying to be set on a copy of a slice from a DataFrame.\n",
      "Try using .loc[row_indexer,col_indexer] = value instead\n",
      "\n",
      "See the caveats in the documentation: https://pandas.pydata.org/pandas-docs/stable/user_guide/indexing.html#returning-a-view-versus-a-copy\n",
      "  df_women['men_age'] = x\n"
     ]
    }
   ],
   "source": [
    "# append men age column\n",
    "\n",
    "# empty list\n",
    "x=[]\n",
    "\n",
    "\n",
    "for i in range(df_women.shape[0]):\n",
    "    x.append(df_men.iloc[i, 3])\n",
    "    \n",
    "df_women['men_age'] = x"
   ]
  },
  {
   "cell_type": "markdown",
   "id": "36b60475-c8b8-4f11-b9f8-09c9a9b488f3",
   "metadata": {},
   "source": [
    "### 6.3 Wilcoxon"
   ]
  },
  {
   "cell_type": "code",
   "execution_count": 44,
   "id": "b8bcb2a9-d489-4c67-bcfe-7f65fd257f2d",
   "metadata": {},
   "outputs": [
    {
     "data": {
      "text/plain": [
       "0.0001905370814245288"
      ]
     },
     "execution_count": 44,
     "metadata": {},
     "output_type": "execute_result"
    }
   ],
   "source": [
    "# import wilcoxon\n",
    "from scipy.stats import wilcoxon\n",
    "\n",
    "# run test\n",
    "stat, p_value = wilcoxon(df_women['Age'], df_women['men_age'], mode='approx')\n",
    "p_value"
   ]
  },
  {
   "cell_type": "code",
   "execution_count": 45,
   "id": "f2f9aede-02f0-45b6-a17c-2c91095da079",
   "metadata": {},
   "outputs": [],
   "source": [
    "# p_value < alpha\n",
    "# reject H0\n",
    "# there is a significant difference between man and women age"
   ]
  }
 ],
 "metadata": {
  "kernelspec": {
   "display_name": "projects",
   "language": "python",
   "name": "projects"
  },
  "language_info": {
   "codemirror_mode": {
    "name": "ipython",
    "version": 3
   },
   "file_extension": ".py",
   "mimetype": "text/x-python",
   "name": "python",
   "nbconvert_exporter": "python",
   "pygments_lexer": "ipython3",
   "version": "3.10.9"
  }
 },
 "nbformat": 4,
 "nbformat_minor": 5
}
