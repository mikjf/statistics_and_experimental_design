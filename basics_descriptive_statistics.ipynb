{
 "cells": [
  {
   "cell_type": "markdown",
   "id": "5ef667b7-8869-4ee7-948a-9887bbaea144",
   "metadata": {},
   "source": [
    "# Descriptive statistics introduction"
   ]
  },
  {
   "cell_type": "code",
   "execution_count": null,
   "id": "3fd8a00e-78c8-47c7-b179-06c719b27eea",
   "metadata": {},
   "outputs": [],
   "source": []
  }
 ],
 "metadata": {
  "kernelspec": {
   "display_name": "projects",
   "language": "python",
   "name": "projects"
  },
  "language_info": {
   "codemirror_mode": {
    "name": "ipython",
    "version": 3
   },
   "file_extension": ".py",
   "mimetype": "text/x-python",
   "name": "python",
   "nbconvert_exporter": "python",
   "pygments_lexer": "ipython3",
   "version": "3.10.9"
  }
 },
 "nbformat": 4,
 "nbformat_minor": 5
}
