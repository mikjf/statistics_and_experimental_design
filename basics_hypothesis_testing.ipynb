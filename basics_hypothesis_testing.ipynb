{
 "cells": [
  {
   "cell_type": "markdown",
   "id": "fe1f3700-7f55-411c-aaf9-c8920208a167",
   "metadata": {},
   "source": [
    "# Hypothesis testing introduction"
   ]
  },
  {
   "cell_type": "markdown",
   "id": "ad667a3e-f7a5-4d3a-a58b-5e06f8b26938",
   "metadata": {},
   "source": [
    "This is a very short notebook to get familiar with some key aspects covered in inductive statistics."
   ]
  },
  {
   "cell_type": "markdown",
   "id": "f3464be6-2b91-4401-88de-7c1b55275af8",
   "metadata": {},
   "source": [
    "## 1. H0 vs H1 & T-test"
   ]
  },
  {
   "cell_type": "markdown",
   "id": "93896b29-fc5e-4f2a-81f7-b95612a9148a",
   "metadata": {},
   "source": [
    "Null and alternative hypothesis testing and t-score are the two basic concepts covered in this notebook. Let's assume for the t-score calculations below that the hypothesis tested have an alpha of 0.05, all variables are normally distributed and no assumption about the variance."
   ]
  },
  {
   "cell_type": "markdown",
   "id": "034ca527-4d04-4e08-a1ae-a8a1bf767027",
   "metadata": {},
   "source": [
    "### 1.1 Thoughts based on assumptions"
   ]
  },
  {
   "cell_type": "markdown",
   "id": "774bc856-f476-4151-a000-e7a2b9c4741e",
   "metadata": {},
   "source": [
    "- Observations approximately follow a normal distribution -> Shapiro-Wilks test\n",
    "- Homogeneity of variances (equal between treatment groups) -> Levene or Bartlett test\n",
    "- Obseervations are sampled independently from each other from the same population"
   ]
  },
  {
   "cell_type": "markdown",
   "id": "343ad60b-e11f-48fc-8a7c-b88e967e512e",
   "metadata": {},
   "source": [
    "## 1.2 Import packages"
   ]
  },
  {
   "cell_type": "code",
   "execution_count": 1,
   "id": "0ac72fe5-9f01-447e-9377-07c035f14352",
   "metadata": {},
   "outputs": [],
   "source": [
    "import numpy as np\n",
    "from scipy.stats import ttest_ind"
   ]
  },
  {
   "cell_type": "markdown",
   "id": "2c49f1d5-ba73-4941-922a-0e0adb003132",
   "metadata": {},
   "source": [
    "### 1.3 Difference in sunny days between cities"
   ]
  },
  {
   "cell_type": "code",
   "execution_count": 3,
   "id": "c2cce987-2cc7-4873-b8ac-d122a0c98213",
   "metadata": {},
   "outputs": [],
   "source": [
    "# H0: there is no difference between the avg. n. days in SF and B\n",
    "# H0: sf_mean = bst_mean (group means are equal)\n",
    "\n",
    "# Ha (also called H1): there is a difference between the avg. n. days in SF and B\n",
    "# Ha: sf_mean != bst_mean (group means are different)"
   ]
  },
  {
   "cell_type": "code",
   "execution_count": 5,
   "id": "f8fb564f-efe6-49ae-99d6-94cb8e9a2a34",
   "metadata": {},
   "outputs": [
    {
     "name": "stdout",
     "output_type": "stream",
     "text": [
      "Variances for the two variables are: 3951.2000000000003 and 1102.3\n"
     ]
    },
    {
     "data": {
      "text/plain": [
       "Ttest_indResult(statistic=2.6673789490993483, pvalue=0.036739143285587854)"
      ]
     },
     "execution_count": 5,
     "metadata": {},
     "output_type": "execute_result"
    }
   ],
   "source": [
    "# set alpha\n",
    "alpha = 0.05\n",
    "\n",
    "# number of sunny days per year\n",
    "sf_sun = [220, 183, 301, 199, 323]\n",
    "bst_sun = [125, 186, 156, 133, 202]\n",
    "\n",
    "# calculating variances to assess if equal_var True or False\n",
    "var_sf_sun = np.var(sf_sun, ddof=1)\n",
    "var_bst_sun = np.var(bst_sun, ddof=1)\n",
    "print(f\"Variances for the two variables are: {var_sf_sun} and {var_bst_sun}\")\n",
    "\n",
    "# t-test\n",
    "ttest_ind(sf_sun, bst_sun, equal_var = False)\n",
    "# t_value, p_value = stats.ttest_ind(sf_sun, bst_sun, equal_var = False)"
   ]
  },
  {
   "cell_type": "code",
   "execution_count": 7,
   "id": "b054fb4c-91d9-47ef-8fd3-5d3fb5e10524",
   "metadata": {},
   "outputs": [],
   "source": [
    "# p-value < alpha\n",
    "# reject H0\n",
    "# therefore there is a difference between avg. n. days in SF and B"
   ]
  },
  {
   "cell_type": "markdown",
   "id": "06559689-b7f5-4204-8986-c9ca671e09d4",
   "metadata": {},
   "source": [
    "### 1.4 Difference in sandwich prices between cities"
   ]
  },
  {
   "cell_type": "code",
   "execution_count": 8,
   "id": "2a5fdfe5-1dd1-4c8f-a191-d66a93f24ffa",
   "metadata": {},
   "outputs": [],
   "source": [
    "# H0: there is no difference between the avg. sandwich price in Zurich and London\n",
    "# H0: mean price_zh = mean price_l (groups means are equal)\n",
    "\n",
    "# Ha: there is a difference\n",
    "# Ha: mean price_zh != mean price_l (group means are different)"
   ]
  },
  {
   "cell_type": "code",
   "execution_count": 9,
   "id": "63d6e3cb-d45b-444d-a4d5-ee631bf0fb09",
   "metadata": {},
   "outputs": [
    {
     "name": "stdout",
     "output_type": "stream",
     "text": [
      "Variances are: 18.722592857142853, 0.314601111111111\n"
     ]
    },
    {
     "data": {
      "text/plain": [
       "Ttest_indResult(statistic=2.4482815379085707, pvalue=0.04333598269449579)"
      ]
     },
     "execution_count": 9,
     "metadata": {},
     "output_type": "execute_result"
    }
   ],
   "source": [
    "# sandwich prices\n",
    "x = [2.34, 15.24, 4.24, 9.05, 7.04, 9.09, 2.74, 4.24]\n",
    "y = [2.49, 3.13, 2.92, 3.88, 3.11, 3.31, 2.41, 3.71, 2.17, 2.64]\n",
    "\n",
    "# calculating variances to assess if equal_var True or False\n",
    "var_x = np.var(x, ddof=1)\n",
    "var_y = np.var(y, ddof=1)\n",
    "print(f'Variances are: {var_x}, {var_y}')\n",
    "\n",
    "# t-test\n",
    "ttest_ind(x,y, equal_var=False)"
   ]
  },
  {
   "cell_type": "code",
   "execution_count": 10,
   "id": "72315f08-0a9c-4a6e-a4e3-f06d8b04714e",
   "metadata": {},
   "outputs": [],
   "source": [
    "# p_value < alpha\n",
    "# reject H0\n",
    "# therefore there is a difference between avg. price for sandwiches in Zurich and London"
   ]
  },
  {
   "cell_type": "markdown",
   "id": "b7f2ff25-1f75-4876-8373-d5d2a29d3503",
   "metadata": {},
   "source": [
    "### 1.5 Difference in drivers' speed between cities"
   ]
  },
  {
   "cell_type": "code",
   "execution_count": 11,
   "id": "507a543f-61f8-4374-9d0d-fdb40e63dcc3",
   "metadata": {},
   "outputs": [
    {
     "name": "stdout",
     "output_type": "stream",
     "text": [
      "Variances are: 278.70000000000005, 601.6999999999999\n"
     ]
    },
    {
     "data": {
      "text/plain": [
       "Ttest_indResult(statistic=-0.9043285278726962, pvalue=0.3956676705134941)"
      ]
     },
     "execution_count": 11,
     "metadata": {},
     "output_type": "execute_result"
    }
   ],
   "source": [
    "# speed\n",
    "x = [127, 83, 94, 98, 92]\n",
    "y = [151, 102, 85, 112, 104]\n",
    "\n",
    "# equal_var True or False\n",
    "var_x = np.var(x, ddof=1)\n",
    "var_y = np.var(y, ddof=1)\n",
    "print(f'Variances are: {var_x}, {var_y}')\n",
    "\n",
    "# t-test\n",
    "ttest_ind(x,y, equal_var=False)"
   ]
  },
  {
   "cell_type": "code",
   "execution_count": 12,
   "id": "0b9bd329-4f37-4197-8ebb-d1ea0cdf037c",
   "metadata": {},
   "outputs": [],
   "source": [
    "# p_value > alpha\n",
    "# fail to reject H0\n",
    "# therefore there is no difference between avg. speed between red and blue cars"
   ]
  }
 ],
 "metadata": {
  "kernelspec": {
   "display_name": "projects",
   "language": "python",
   "name": "projects"
  },
  "language_info": {
   "codemirror_mode": {
    "name": "ipython",
    "version": 3
   },
   "file_extension": ".py",
   "mimetype": "text/x-python",
   "name": "python",
   "nbconvert_exporter": "python",
   "pygments_lexer": "ipython3",
   "version": "3.10.9"
  }
 },
 "nbformat": 4,
 "nbformat_minor": 5
}
