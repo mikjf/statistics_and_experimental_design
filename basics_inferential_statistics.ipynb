{
 "cells": [
  {
   "cell_type": "markdown",
   "id": "be431b00-5d03-4dce-9a31-2327f9a06470",
   "metadata": {},
   "source": [
    "# Statistical inference via data science"
   ]
  },
  {
   "cell_type": "code",
   "execution_count": null,
   "id": "97791600-2861-4e4f-a859-228b2dd3d738",
   "metadata": {},
   "outputs": [],
   "source": []
  }
 ],
 "metadata": {
  "kernelspec": {
   "display_name": "projects",
   "language": "python",
   "name": "projects"
  },
  "language_info": {
   "codemirror_mode": {
    "name": "ipython",
    "version": 3
   },
   "file_extension": ".py",
   "mimetype": "text/x-python",
   "name": "python",
   "nbconvert_exporter": "python",
   "pygments_lexer": "ipython3",
   "version": "3.10.9"
  }
 },
 "nbformat": 4,
 "nbformat_minor": 5
}
