{
 "cells": [
  {
   "cell_type": "markdown",
   "id": "56de0632-34c9-4b96-b9fa-f815059fe018",
   "metadata": {},
   "source": [
    "# Type I & II Error, Permutations and Power analysis"
   ]
  },
  {
   "cell_type": "code",
   "execution_count": null,
   "id": "328aa272-c0c4-4779-b6c6-8f39deedd3e4",
   "metadata": {},
   "outputs": [],
   "source": [
    "# testing git reset --hard"
   ]
  }
 ],
 "metadata": {
  "kernelspec": {
   "display_name": "projects",
   "language": "python",
   "name": "projects"
  },
  "language_info": {
   "codemirror_mode": {
    "name": "ipython",
    "version": 3
   },
   "file_extension": ".py",
   "mimetype": "text/x-python",
   "name": "python",
   "nbconvert_exporter": "python",
   "pygments_lexer": "ipython3",
   "version": "3.10.9"
  }
 },
 "nbformat": 4,
 "nbformat_minor": 5
}
