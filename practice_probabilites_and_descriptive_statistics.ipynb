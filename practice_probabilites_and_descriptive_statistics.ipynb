{
 "cells": [
  {
   "cell_type": "markdown",
   "id": "df23bc26-f577-4992-b6ee-59a2b46b9922",
   "metadata": {},
   "source": [
    "# Probability theory and descriptive statistics"
   ]
  },
  {
   "cell_type": "markdown",
   "id": "6aec53fc-b4a6-4269-81f1-6a3483a70fbf",
   "metadata": {},
   "source": [
    "In this notebook I'll try to solve a couple of exercises related to descriptive statistics."
   ]
  },
  {
   "cell_type": "markdown",
   "id": "7d0e42f7-59d7-411a-b2b0-41ec5f11c7d1",
   "metadata": {},
   "source": [
    "## 1. Train-test split"
   ]
  },
  {
   "cell_type": "markdown",
   "id": "32a6ce8c-3930-4bbe-98a2-5192b33d29f8",
   "metadata": {},
   "source": [
    "The goal of this exercises it to learn how to perform a train-test split."
   ]
  },
  {
   "cell_type": "code",
   "execution_count": 1,
   "id": "94163462-3d76-4059-890c-f69a919d0d20",
   "metadata": {},
   "outputs": [],
   "source": [
    "# import packages\n",
    "import pandas as pd\n",
    "import matplotlib.pyplot as plt\n",
    "\n",
    "# set fig size\n",
    "#plt.rcParams['figure.figsize'] = (4.8, 3)"
   ]
  },
  {
   "cell_type": "code",
   "execution_count": 2,
   "id": "bcc780fd-81b6-423c-bd1c-63fee939dfcf",
   "metadata": {},
   "outputs": [
    {
     "data": {
      "text/html": [
       "<div>\n",
       "<style scoped>\n",
       "    .dataframe tbody tr th:only-of-type {\n",
       "        vertical-align: middle;\n",
       "    }\n",
       "\n",
       "    .dataframe tbody tr th {\n",
       "        vertical-align: top;\n",
       "    }\n",
       "\n",
       "    .dataframe thead th {\n",
       "        text-align: right;\n",
       "    }\n",
       "</style>\n",
       "<table border=\"1\" class=\"dataframe\">\n",
       "  <thead>\n",
       "    <tr style=\"text-align: right;\">\n",
       "      <th></th>\n",
       "      <th>recency</th>\n",
       "      <th>history</th>\n",
       "      <th>used_discount</th>\n",
       "      <th>used_bogo</th>\n",
       "      <th>zip_code</th>\n",
       "      <th>is_referral</th>\n",
       "      <th>channel</th>\n",
       "      <th>offer</th>\n",
       "      <th>conversion</th>\n",
       "    </tr>\n",
       "  </thead>\n",
       "  <tbody>\n",
       "    <tr>\n",
       "      <th>0</th>\n",
       "      <td>10</td>\n",
       "      <td>142.44</td>\n",
       "      <td>1</td>\n",
       "      <td>0</td>\n",
       "      <td>Surburban</td>\n",
       "      <td>0</td>\n",
       "      <td>Phone</td>\n",
       "      <td>Buy One Get One</td>\n",
       "      <td>0</td>\n",
       "    </tr>\n",
       "    <tr>\n",
       "      <th>1</th>\n",
       "      <td>5</td>\n",
       "      <td>349.41</td>\n",
       "      <td>1</td>\n",
       "      <td>1</td>\n",
       "      <td>Surburban</td>\n",
       "      <td>1</td>\n",
       "      <td>Phone</td>\n",
       "      <td>Buy One Get One</td>\n",
       "      <td>0</td>\n",
       "    </tr>\n",
       "    <tr>\n",
       "      <th>2</th>\n",
       "      <td>7</td>\n",
       "      <td>64.04</td>\n",
       "      <td>0</td>\n",
       "      <td>1</td>\n",
       "      <td>Rural</td>\n",
       "      <td>0</td>\n",
       "      <td>Web</td>\n",
       "      <td>Buy One Get One</td>\n",
       "      <td>1</td>\n",
       "    </tr>\n",
       "    <tr>\n",
       "      <th>3</th>\n",
       "      <td>2</td>\n",
       "      <td>244.82</td>\n",
       "      <td>0</td>\n",
       "      <td>1</td>\n",
       "      <td>Rural</td>\n",
       "      <td>1</td>\n",
       "      <td>Web</td>\n",
       "      <td>Buy One Get One</td>\n",
       "      <td>1</td>\n",
       "    </tr>\n",
       "    <tr>\n",
       "      <th>4</th>\n",
       "      <td>11</td>\n",
       "      <td>302.15</td>\n",
       "      <td>1</td>\n",
       "      <td>0</td>\n",
       "      <td>Urban</td>\n",
       "      <td>0</td>\n",
       "      <td>Web</td>\n",
       "      <td>Buy One Get One</td>\n",
       "      <td>0</td>\n",
       "    </tr>\n",
       "  </tbody>\n",
       "</table>\n",
       "</div>"
      ],
      "text/plain": [
       "   recency  history  used_discount  used_bogo   zip_code  is_referral channel  \\\n",
       "0       10   142.44              1          0  Surburban            0   Phone   \n",
       "1        5   349.41              1          1  Surburban            1   Phone   \n",
       "2        7    64.04              0          1      Rural            0     Web   \n",
       "3        2   244.82              0          1      Rural            1     Web   \n",
       "4       11   302.15              1          0      Urban            0     Web   \n",
       "\n",
       "             offer  conversion  \n",
       "0  Buy One Get One           0  \n",
       "1  Buy One Get One           0  \n",
       "2  Buy One Get One           1  \n",
       "3  Buy One Get One           1  \n",
       "4  Buy One Get One           0  "
      ]
     },
     "execution_count": 2,
     "metadata": {},
     "output_type": "execute_result"
    }
   ],
   "source": [
    "# load and read data from csv\n",
    "df = pd.read_csv('data/Marketing3.csv', index_col=[0])\n",
    "df.head()"
   ]
  },
  {
   "cell_type": "code",
   "execution_count": 3,
   "id": "f5dbd91e-4629-4bf0-adb0-3743e07d5b62",
   "metadata": {},
   "outputs": [
    {
     "data": {
      "text/plain": [
       "(64000, 9)"
      ]
     },
     "execution_count": 3,
     "metadata": {},
     "output_type": "execute_result"
    }
   ],
   "source": [
    "# df shape\n",
    "df.shape"
   ]
  },
  {
   "cell_type": "code",
   "execution_count": 4,
   "id": "c477558d-3ac4-4ad4-a0a2-7a952a9dc9a9",
   "metadata": {},
   "outputs": [
    {
     "data": {
      "image/png": "[encoded data removed]",
      "text/plain": [
       "<Figure size 640x480 with 1 Axes>"
      ]
     },
     "metadata": {},
     "output_type": "display_data"
    }
   ],
   "source": [
    "# histogram on coversion feature\n",
    "plt.hist(df['conversion'])\n",
    "plt.xlabel('conversion')\n",
    "plt.ylabel('frequency')\n",
    "plt.show()"
   ]
  },
  {
   "cell_type": "markdown",
   "id": "84228c7d-fc29-4c57-885e-47dea00cebaa",
   "metadata": {},
   "source": [
    "### 1.1 Bernoulli distribution"
   ]
  },
  {
   "cell_type": "markdown",
   "id": "e8bdd3e9-ba9b-497c-89e2-1f2b9f9159e4",
   "metadata": {},
   "source": [
    "**Discrete probability distribution with success/failure outcomes**"
   ]
  },
  {
   "cell_type": "code",
   "execution_count": 5,
   "id": "a7addf71-bbbb-4c88-82fc-c2769c5393a2",
   "metadata": {},
   "outputs": [
    {
     "name": "stdout",
     "output_type": "stream",
     "text": [
      "P(conversion): 0.14678125\n",
      "P(no conversion: 0.85321875\n"
     ]
    }
   ],
   "source": [
    "# proportion %\n",
    "prob_conversion = df['conversion'].mean()\n",
    "prob_no_conversion = 1 - prob_conversion\n",
    "\n",
    "# output\n",
    "print('P(conversion): ' + str(prob_conversion))\n",
    "print('P(no conversion: ' + str(prob_no_conversion))"
   ]
  },
  {
   "cell_type": "markdown",
   "id": "2412142a-da11-4f49-b5d1-0fca95d72a3e",
   "metadata": {},
   "source": [
    "### 1.2 Train-test split (80-20)"
   ]
  },
  {
   "cell_type": "markdown",
   "id": "b827b09f-4f42-4294-afc1-a31fbfb90389",
   "metadata": {},
   "source": [
    "`.sample` is used to sample randomly (not to alter the conv/no conv distribution)."
   ]
  },
  {
   "cell_type": "code",
   "execution_count": 6,
   "id": "863a88af-1e4c-408b-8969-c54bc8b50313",
   "metadata": {},
   "outputs": [],
   "source": [
    "# random selection of 80% of df rows\n",
    "train = df.sample(frac=0.8, random_state=1)"
   ]
  },
  {
   "cell_type": "code",
   "execution_count": 7,
   "id": "190d39f0-f964-4804-a3f0-44633f0d2e8b",
   "metadata": {},
   "outputs": [],
   "source": [
    "# drop selected train rows for test split\n",
    "test = df.drop(train.index).sample(frac=1)"
   ]
  },
  {
   "cell_type": "code",
   "execution_count": 8,
   "id": "30969b9c-13a4-4741-8df2-8e0e15651bce",
   "metadata": {},
   "outputs": [
    {
     "data": {
      "text/plain": [
       "(64000, 51200, 12800)"
      ]
     },
     "execution_count": 8,
     "metadata": {},
     "output_type": "execute_result"
    }
   ],
   "source": [
    "# check train-test split shape\n",
    "len(df), len(train), len(test)"
   ]
  },
  {
   "cell_type": "markdown",
   "id": "2a71b5d4-0f90-4d4f-9263-807cb8410e64",
   "metadata": {},
   "source": [
    "### 1.3 Visual distribution check"
   ]
  },
  {
   "cell_type": "code",
   "execution_count": 9,
   "id": "31d86230-4dbc-49da-a9dc-b0e887bd3c3f",
   "metadata": {},
   "outputs": [
    {
     "data": {
      "image/png": "[encoded data removed]",
      "text/plain": [
       "<Figure size 640x480 with 2 Axes>"
      ]
     },
     "metadata": {},
     "output_type": "display_data"
    }
   ],
   "source": [
    "# figure with subplots\n",
    "fig, (ax1, ax2) = plt.subplots(1, 2)\n",
    "\n",
    "# train plot\n",
    "ax1.hist(train['conversion'])\n",
    "ax1.set_ylabel('frequency')\n",
    "ax1.set_xlabel('conversion')\n",
    "ax1.set_title('Train split')\n",
    "\n",
    "# test plot\n",
    "ax2.hist(test['conversion'])\n",
    "ax2.set_ylabel('frequency')\n",
    "ax2.set_xlabel('conversion')\n",
    "ax2.set_title('Train split')\n",
    "\n",
    "# adjust subplot params to fit fig\n",
    "plt.tight_layout()\n",
    "\n",
    "# plot\n",
    "plt.show()"
   ]
  },
  {
   "cell_type": "markdown",
   "id": "d9e8a070-c62d-4e22-a82e-319654b9d468",
   "metadata": {},
   "source": [
    "### 1.4 Probability calculation distribution check"
   ]
  },
  {
   "cell_type": "code",
   "execution_count": 10,
   "id": "4b74cacd-23e0-4612-a052-8d25b74cd1e0",
   "metadata": {},
   "outputs": [
    {
     "data": {
      "text/plain": [
       "(0.14775390625, 0.85224609375)"
      ]
     },
     "execution_count": 10,
     "metadata": {},
     "output_type": "execute_result"
    }
   ],
   "source": [
    "# train split\n",
    "prop_conversion_train = train['conversion'].mean()\n",
    "prop_no_conversion_train = 1 - prop_conversion_train\n",
    "\n",
    "prop_conversion_train, prop_no_conversion_train"
   ]
  },
  {
   "cell_type": "code",
   "execution_count": 11,
   "id": "16defd8c-a6b3-484f-bcc4-a0cd378976b3",
   "metadata": {},
   "outputs": [
    {
     "data": {
      "text/plain": [
       "(0.142890625, 0.8571093750000001)"
      ]
     },
     "execution_count": 11,
     "metadata": {},
     "output_type": "execute_result"
    }
   ],
   "source": [
    "# test split\n",
    "prop_conversion_test = test['conversion'].mean()\n",
    "prop_no_conversion_test = 1 - prop_conversion_test\n",
    "\n",
    "prop_conversion_test, prop_no_conversion_test"
   ]
  },
  {
   "cell_type": "markdown",
   "id": "53815a20-bdfa-45dd-a7f1-a202387f6736",
   "metadata": {},
   "source": [
    "## 2. Law of large numbers and Central Limit Theorem"
   ]
  },
  {
   "cell_type": "markdown",
   "id": "7f5206a2-0e47-474d-a780-2a0962a7e3f3",
   "metadata": {},
   "source": [
    "In this exercise we'll demonstrate that the average of the results obtained from a large number of trials should be close to the expected value and will tend to become closer to the expected value as more trials are performed."
   ]
  },
  {
   "cell_type": "code",
   "execution_count": 12,
   "id": "23b8e548-8b8c-4391-8d62-f593844db225",
   "metadata": {},
   "outputs": [],
   "source": [
    "# import packages\n",
    "import pandas as pd\n",
    "import numpy as np"
   ]
  },
  {
   "cell_type": "code",
   "execution_count": 13,
   "id": "b02fb91c-c17e-44db-83f4-1fbb4090cd16",
   "metadata": {},
   "outputs": [
    {
     "data": {
      "text/html": [
       "<div>\n",
       "<style scoped>\n",
       "    .dataframe tbody tr th:only-of-type {\n",
       "        vertical-align: middle;\n",
       "    }\n",
       "\n",
       "    .dataframe tbody tr th {\n",
       "        vertical-align: top;\n",
       "    }\n",
       "\n",
       "    .dataframe thead th {\n",
       "        text-align: right;\n",
       "    }\n",
       "</style>\n",
       "<table border=\"1\" class=\"dataframe\">\n",
       "  <thead>\n",
       "    <tr style=\"text-align: right;\">\n",
       "      <th></th>\n",
       "      <th>InvoiceNo</th>\n",
       "      <th>StockCode</th>\n",
       "      <th>Description</th>\n",
       "      <th>Quantity</th>\n",
       "      <th>InvoiceDate</th>\n",
       "      <th>UnitPrice</th>\n",
       "      <th>CustomerID</th>\n",
       "      <th>Country</th>\n",
       "    </tr>\n",
       "  </thead>\n",
       "  <tbody>\n",
       "    <tr>\n",
       "      <th>0</th>\n",
       "      <td>536365</td>\n",
       "      <td>85123A</td>\n",
       "      <td>WHITE HANGING HEART T-LIGHT HOLDER</td>\n",
       "      <td>6</td>\n",
       "      <td>12/1/2010 8:26</td>\n",
       "      <td>2.55</td>\n",
       "      <td>17850.0</td>\n",
       "      <td>United Kingdom</td>\n",
       "    </tr>\n",
       "    <tr>\n",
       "      <th>1</th>\n",
       "      <td>536365</td>\n",
       "      <td>71053</td>\n",
       "      <td>WHITE METAL LANTERN</td>\n",
       "      <td>6</td>\n",
       "      <td>12/1/2010 8:26</td>\n",
       "      <td>3.39</td>\n",
       "      <td>17850.0</td>\n",
       "      <td>United Kingdom</td>\n",
       "    </tr>\n",
       "    <tr>\n",
       "      <th>2</th>\n",
       "      <td>536365</td>\n",
       "      <td>84406B</td>\n",
       "      <td>CREAM CUPID HEARTS COAT HANGER</td>\n",
       "      <td>8</td>\n",
       "      <td>12/1/2010 8:26</td>\n",
       "      <td>2.75</td>\n",
       "      <td>17850.0</td>\n",
       "      <td>United Kingdom</td>\n",
       "    </tr>\n",
       "    <tr>\n",
       "      <th>3</th>\n",
       "      <td>536365</td>\n",
       "      <td>84029G</td>\n",
       "      <td>KNITTED UNION FLAG HOT WATER BOTTLE</td>\n",
       "      <td>6</td>\n",
       "      <td>12/1/2010 8:26</td>\n",
       "      <td>3.39</td>\n",
       "      <td>17850.0</td>\n",
       "      <td>United Kingdom</td>\n",
       "    </tr>\n",
       "    <tr>\n",
       "      <th>4</th>\n",
       "      <td>536365</td>\n",
       "      <td>84029E</td>\n",
       "      <td>RED WOOLLY HOTTIE WHITE HEART.</td>\n",
       "      <td>6</td>\n",
       "      <td>12/1/2010 8:26</td>\n",
       "      <td>3.39</td>\n",
       "      <td>17850.0</td>\n",
       "      <td>United Kingdom</td>\n",
       "    </tr>\n",
       "  </tbody>\n",
       "</table>\n",
       "</div>"
      ],
      "text/plain": [
       "  InvoiceNo StockCode                          Description  Quantity  \\\n",
       "0    536365    85123A   WHITE HANGING HEART T-LIGHT HOLDER         6   \n",
       "1    536365     71053                  WHITE METAL LANTERN         6   \n",
       "2    536365    84406B       CREAM CUPID HEARTS COAT HANGER         8   \n",
       "3    536365    84029G  KNITTED UNION FLAG HOT WATER BOTTLE         6   \n",
       "4    536365    84029E       RED WOOLLY HOTTIE WHITE HEART.         6   \n",
       "\n",
       "      InvoiceDate  UnitPrice  CustomerID         Country  \n",
       "0  12/1/2010 8:26       2.55     17850.0  United Kingdom  \n",
       "1  12/1/2010 8:26       3.39     17850.0  United Kingdom  \n",
       "2  12/1/2010 8:26       2.75     17850.0  United Kingdom  \n",
       "3  12/1/2010 8:26       3.39     17850.0  United Kingdom  \n",
       "4  12/1/2010 8:26       3.39     17850.0  United Kingdom  "
      ]
     },
     "execution_count": 13,
     "metadata": {},
     "output_type": "execute_result"
    }
   ],
   "source": [
    "# load/read data from csv\n",
    "df = pd.read_csv('data/OnlineRetail.csv', encoding = 'ISO-8859-1')\n",
    "df.head()"
   ]
  },
  {
   "cell_type": "code",
   "execution_count": 14,
   "id": "edb6490c-e474-400e-862b-3369d218feb2",
   "metadata": {},
   "outputs": [
    {
     "data": {
      "text/plain": [
       "(541909, 8)"
      ]
     },
     "execution_count": 14,
     "metadata": {},
     "output_type": "execute_result"
    }
   ],
   "source": [
    "# df shape\n",
    "df.shape"
   ]
  },
  {
   "cell_type": "markdown",
   "id": "92bc7092-ddbc-4117-9385-0ab2d6731fc2",
   "metadata": {},
   "source": [
    "### 2.1 Daily sales with datetime"
   ]
  },
  {
   "cell_type": "code",
   "execution_count": 15,
   "id": "517300b6-009a-47b0-9693-369b4b69cff2",
   "metadata": {},
   "outputs": [
    {
     "name": "stdout",
     "output_type": "stream",
     "text": [
      "<class 'pandas.core.frame.DataFrame'>\n",
      "RangeIndex: 541909 entries, 0 to 541908\n",
      "Data columns (total 8 columns):\n",
      " #   Column       Non-Null Count   Dtype  \n",
      "---  ------       --------------   -----  \n",
      " 0   InvoiceNo    541909 non-null  object \n",
      " 1   StockCode    541909 non-null  object \n",
      " 2   Description  540455 non-null  object \n",
      " 3   Quantity     541909 non-null  int64  \n",
      " 4   InvoiceDate  541909 non-null  object \n",
      " 5   UnitPrice    541909 non-null  float64\n",
      " 6   CustomerID   406829 non-null  float64\n",
      " 7   Country      541909 non-null  object \n",
      "dtypes: float64(2), int64(1), object(5)\n",
      "memory usage: 33.1+ MB\n"
     ]
    }
   ],
   "source": [
    "# check df info/dtype\n",
    "df.info()"
   ]
  },
  {
   "cell_type": "code",
   "execution_count": 16,
   "id": "20bc784a-e935-4799-90ce-89774d34117e",
   "metadata": {},
   "outputs": [
    {
     "data": {
      "text/html": [
       "<div>\n",
       "<style scoped>\n",
       "    .dataframe tbody tr th:only-of-type {\n",
       "        vertical-align: middle;\n",
       "    }\n",
       "\n",
       "    .dataframe tbody tr th {\n",
       "        vertical-align: top;\n",
       "    }\n",
       "\n",
       "    .dataframe thead th {\n",
       "        text-align: right;\n",
       "    }\n",
       "</style>\n",
       "<table border=\"1\" class=\"dataframe\">\n",
       "  <thead>\n",
       "    <tr style=\"text-align: right;\">\n",
       "      <th></th>\n",
       "      <th>InvoiceNo</th>\n",
       "      <th>StockCode</th>\n",
       "      <th>Description</th>\n",
       "      <th>Quantity</th>\n",
       "      <th>InvoiceDate</th>\n",
       "      <th>UnitPrice</th>\n",
       "      <th>CustomerID</th>\n",
       "      <th>Country</th>\n",
       "    </tr>\n",
       "  </thead>\n",
       "  <tbody>\n",
       "    <tr>\n",
       "      <th>0</th>\n",
       "      <td>536365</td>\n",
       "      <td>85123A</td>\n",
       "      <td>WHITE HANGING HEART T-LIGHT HOLDER</td>\n",
       "      <td>6</td>\n",
       "      <td>2010-12-01</td>\n",
       "      <td>2.55</td>\n",
       "      <td>17850.0</td>\n",
       "      <td>United Kingdom</td>\n",
       "    </tr>\n",
       "    <tr>\n",
       "      <th>1</th>\n",
       "      <td>536365</td>\n",
       "      <td>71053</td>\n",
       "      <td>WHITE METAL LANTERN</td>\n",
       "      <td>6</td>\n",
       "      <td>2010-12-01</td>\n",
       "      <td>3.39</td>\n",
       "      <td>17850.0</td>\n",
       "      <td>United Kingdom</td>\n",
       "    </tr>\n",
       "    <tr>\n",
       "      <th>2</th>\n",
       "      <td>536365</td>\n",
       "      <td>84406B</td>\n",
       "      <td>CREAM CUPID HEARTS COAT HANGER</td>\n",
       "      <td>8</td>\n",
       "      <td>2010-12-01</td>\n",
       "      <td>2.75</td>\n",
       "      <td>17850.0</td>\n",
       "      <td>United Kingdom</td>\n",
       "    </tr>\n",
       "    <tr>\n",
       "      <th>3</th>\n",
       "      <td>536365</td>\n",
       "      <td>84029G</td>\n",
       "      <td>KNITTED UNION FLAG HOT WATER BOTTLE</td>\n",
       "      <td>6</td>\n",
       "      <td>2010-12-01</td>\n",
       "      <td>3.39</td>\n",
       "      <td>17850.0</td>\n",
       "      <td>United Kingdom</td>\n",
       "    </tr>\n",
       "    <tr>\n",
       "      <th>4</th>\n",
       "      <td>536365</td>\n",
       "      <td>84029E</td>\n",
       "      <td>RED WOOLLY HOTTIE WHITE HEART.</td>\n",
       "      <td>6</td>\n",
       "      <td>2010-12-01</td>\n",
       "      <td>3.39</td>\n",
       "      <td>17850.0</td>\n",
       "      <td>United Kingdom</td>\n",
       "    </tr>\n",
       "  </tbody>\n",
       "</table>\n",
       "</div>"
      ],
      "text/plain": [
       "  InvoiceNo StockCode                          Description  Quantity  \\\n",
       "0    536365    85123A   WHITE HANGING HEART T-LIGHT HOLDER         6   \n",
       "1    536365     71053                  WHITE METAL LANTERN         6   \n",
       "2    536365    84406B       CREAM CUPID HEARTS COAT HANGER         8   \n",
       "3    536365    84029G  KNITTED UNION FLAG HOT WATER BOTTLE         6   \n",
       "4    536365    84029E       RED WOOLLY HOTTIE WHITE HEART.         6   \n",
       "\n",
       "  InvoiceDate  UnitPrice  CustomerID         Country  \n",
       "0  2010-12-01       2.55     17850.0  United Kingdom  \n",
       "1  2010-12-01       3.39     17850.0  United Kingdom  \n",
       "2  2010-12-01       2.75     17850.0  United Kingdom  \n",
       "3  2010-12-01       3.39     17850.0  United Kingdom  \n",
       "4  2010-12-01       3.39     17850.0  United Kingdom  "
      ]
     },
     "execution_count": 16,
     "metadata": {},
     "output_type": "execute_result"
    }
   ],
   "source": [
    "# convert 'InvoiceDate' from object to datetime column\n",
    "df['InvoiceDate'] = pd.to_datetime(df['InvoiceDate'], format='%m/%d/%Y %H:%M').dt.date\n",
    "df.head()"
   ]
  },
  {
   "cell_type": "code",
   "execution_count": 17,
   "id": "cd002b0e-34c6-4095-bf8c-47880889c533",
   "metadata": {},
   "outputs": [],
   "source": [
    "# add revenue column to df\n",
    "df['Revenue'] = df['UnitPrice'] * df['Quantity']"
   ]
  },
  {
   "cell_type": "code",
   "execution_count": 18,
   "id": "9bfb981d-1f22-4bd6-b9e5-8fe6ab7a4025",
   "metadata": {},
   "outputs": [
    {
     "data": {
      "text/html": [
       "<div>\n",
       "<style scoped>\n",
       "    .dataframe tbody tr th:only-of-type {\n",
       "        vertical-align: middle;\n",
       "    }\n",
       "\n",
       "    .dataframe tbody tr th {\n",
       "        vertical-align: top;\n",
       "    }\n",
       "\n",
       "    .dataframe thead th {\n",
       "        text-align: right;\n",
       "    }\n",
       "</style>\n",
       "<table border=\"1\" class=\"dataframe\">\n",
       "  <thead>\n",
       "    <tr style=\"text-align: right;\">\n",
       "      <th></th>\n",
       "      <th>Quantity</th>\n",
       "      <th>Revenue</th>\n",
       "    </tr>\n",
       "    <tr>\n",
       "      <th>InvoiceDate</th>\n",
       "      <th></th>\n",
       "      <th></th>\n",
       "    </tr>\n",
       "  </thead>\n",
       "  <tbody>\n",
       "    <tr>\n",
       "      <th>2010-12-01</th>\n",
       "      <td>26814</td>\n",
       "      <td>58635.56</td>\n",
       "    </tr>\n",
       "    <tr>\n",
       "      <th>2010-12-02</th>\n",
       "      <td>21023</td>\n",
       "      <td>46207.28</td>\n",
       "    </tr>\n",
       "    <tr>\n",
       "      <th>2010-12-03</th>\n",
       "      <td>14830</td>\n",
       "      <td>45620.46</td>\n",
       "    </tr>\n",
       "    <tr>\n",
       "      <th>2010-12-05</th>\n",
       "      <td>16395</td>\n",
       "      <td>31383.95</td>\n",
       "    </tr>\n",
       "    <tr>\n",
       "      <th>2010-12-06</th>\n",
       "      <td>21419</td>\n",
       "      <td>53860.18</td>\n",
       "    </tr>\n",
       "    <tr>\n",
       "      <th>...</th>\n",
       "      <td>...</td>\n",
       "      <td>...</td>\n",
       "    </tr>\n",
       "    <tr>\n",
       "      <th>2011-12-05</th>\n",
       "      <td>44119</td>\n",
       "      <td>57751.32</td>\n",
       "    </tr>\n",
       "    <tr>\n",
       "      <th>2011-12-06</th>\n",
       "      <td>29026</td>\n",
       "      <td>54228.37</td>\n",
       "    </tr>\n",
       "    <tr>\n",
       "      <th>2011-12-07</th>\n",
       "      <td>39612</td>\n",
       "      <td>75076.22</td>\n",
       "    </tr>\n",
       "    <tr>\n",
       "      <th>2011-12-08</th>\n",
       "      <td>34460</td>\n",
       "      <td>81417.78</td>\n",
       "    </tr>\n",
       "    <tr>\n",
       "      <th>2011-12-09</th>\n",
       "      <td>12949</td>\n",
       "      <td>32131.53</td>\n",
       "    </tr>\n",
       "  </tbody>\n",
       "</table>\n",
       "<p>305 rows × 2 columns</p>\n",
       "</div>"
      ],
      "text/plain": [
       "             Quantity   Revenue\n",
       "InvoiceDate                    \n",
       "2010-12-01      26814  58635.56\n",
       "2010-12-02      21023  46207.28\n",
       "2010-12-03      14830  45620.46\n",
       "2010-12-05      16395  31383.95\n",
       "2010-12-06      21419  53860.18\n",
       "...               ...       ...\n",
       "2011-12-05      44119  57751.32\n",
       "2011-12-06      29026  54228.37\n",
       "2011-12-07      39612  75076.22\n",
       "2011-12-08      34460  81417.78\n",
       "2011-12-09      12949  32131.53\n",
       "\n",
       "[305 rows x 2 columns]"
      ]
     },
     "execution_count": 18,
     "metadata": {},
     "output_type": "execute_result"
    }
   ],
   "source": [
    "# revenue grouped by date\n",
    "df_grouped = df.drop(['CustomerID', 'UnitPrice'], axis=1) # axis=1 -> columns\n",
    "df_grouped = df_grouped.groupby('InvoiceDate').sum()\n",
    "df_grouped"
   ]
  },
  {
   "cell_type": "code",
   "execution_count": 19,
   "id": "2eb6b6f5-9e13-415b-9fea-6c51fe3646c3",
   "metadata": {},
   "outputs": [
    {
     "data": {
      "image/png": "[encoded data removed]",
      "text/plain": [
       "<Figure size 640x480 with 1 Axes>"
      ]
     },
     "metadata": {},
     "output_type": "display_data"
    }
   ],
   "source": [
    "# df_grouped distribution visualization\n",
    "plt.hist(df_grouped['Revenue'])\n",
    "plt.ylabel('Frequency')\n",
    "plt.xlabel('Revenue')\n",
    "plt.show()"
   ]
  },
  {
   "cell_type": "markdown",
   "id": "c4604b78-fbda-4b30-ae0f-253b8cdc4156",
   "metadata": {},
   "source": [
    "### 2.2 Law of large number verification"
   ]
  },
  {
   "cell_type": "code",
   "execution_count": 20,
   "id": "9683d362-39d0-4985-8046-342ad9beed10",
   "metadata": {},
   "outputs": [],
   "source": [
    "# empty list average daily revenues\n",
    "avg_daily_revenues = []\n",
    "\n",
    "# for loop get mean of random sample from 2 to 300 values\n",
    "for i in range (2, 300):\n",
    "    avg_daily_revenues += [df_grouped.sample(n=i)['Revenue'].mean()]"
   ]
  },
  {
   "cell_type": "code",
   "execution_count": 21,
   "id": "4fb484da-ce2b-4445-844e-e535a08f1654",
   "metadata": {},
   "outputs": [
    {
     "data": {
      "image/png": "[encoded data removed]",
      "text/plain": [
       "<Figure size 640x480 with 1 Axes>"
      ]
     },
     "metadata": {},
     "output_type": "display_data"
    }
   ],
   "source": [
    "# avg_daily_revenues plot\n",
    "plt.plot(range(2, 300), avg_daily_revenues)\n",
    "plt.xlabel('Sample size')\n",
    "plt.ylabel('Average daily revenue')\n",
    "plt.show()"
   ]
  },
  {
   "cell_type": "code",
   "execution_count": 22,
   "id": "d32bc851-f44e-41f7-b464-c0b8bb7bd83b",
   "metadata": {},
   "outputs": [],
   "source": [
    "# as the sample size increases, the average daily revenue gets closer to the expected value."
   ]
  },
  {
   "cell_type": "markdown",
   "id": "511c102d-577e-4bed-b42a-6d24290a5928",
   "metadata": {},
   "source": [
    "### 2.3 Central limit theorem verification"
   ]
  },
  {
   "cell_type": "markdown",
   "id": "d6e50eba-4bf6-4eba-9905-97f394a7004b",
   "metadata": {},
   "source": [
    "CLT: the normalized sum of independent random variables tends towards a normal distribution as the number of independent random variables increases."
   ]
  },
  {
   "cell_type": "code",
   "execution_count": 23,
   "id": "65a90316-50be-4b37-9461-ebe99f0ba5a1",
   "metadata": {},
   "outputs": [
    {
     "data": {
      "text/html": [
       "<div>\n",
       "<style scoped>\n",
       "    .dataframe tbody tr th:only-of-type {\n",
       "        vertical-align: middle;\n",
       "    }\n",
       "\n",
       "    .dataframe tbody tr th {\n",
       "        vertical-align: top;\n",
       "    }\n",
       "\n",
       "    .dataframe thead th {\n",
       "        text-align: right;\n",
       "    }\n",
       "</style>\n",
       "<table border=\"1\" class=\"dataframe\">\n",
       "  <thead>\n",
       "    <tr style=\"text-align: right;\">\n",
       "      <th></th>\n",
       "      <th>1</th>\n",
       "      <th>10</th>\n",
       "      <th>100</th>\n",
       "    </tr>\n",
       "  </thead>\n",
       "  <tbody>\n",
       "    <tr>\n",
       "      <th>0</th>\n",
       "      <td>53225.67</td>\n",
       "      <td>33904.3151</td>\n",
       "      <td>32428.97062</td>\n",
       "    </tr>\n",
       "    <tr>\n",
       "      <th>0</th>\n",
       "      <td>16692.58</td>\n",
       "      <td>21350.4651</td>\n",
       "      <td>31609.03541</td>\n",
       "    </tr>\n",
       "    <tr>\n",
       "      <th>0</th>\n",
       "      <td>34902.01</td>\n",
       "      <td>24487.9360</td>\n",
       "      <td>32545.25132</td>\n",
       "    </tr>\n",
       "    <tr>\n",
       "      <th>0</th>\n",
       "      <td>34902.01</td>\n",
       "      <td>33646.5800</td>\n",
       "      <td>33709.96031</td>\n",
       "    </tr>\n",
       "    <tr>\n",
       "      <th>0</th>\n",
       "      <td>47377.26</td>\n",
       "      <td>29990.8151</td>\n",
       "      <td>33685.07072</td>\n",
       "    </tr>\n",
       "    <tr>\n",
       "      <th>...</th>\n",
       "      <td>...</td>\n",
       "      <td>...</td>\n",
       "      <td>...</td>\n",
       "    </tr>\n",
       "    <tr>\n",
       "      <th>0</th>\n",
       "      <td>81417.78</td>\n",
       "      <td>33951.4960</td>\n",
       "      <td>31013.38321</td>\n",
       "    </tr>\n",
       "    <tr>\n",
       "      <th>0</th>\n",
       "      <td>25525.99</td>\n",
       "      <td>28208.5190</td>\n",
       "      <td>32510.89862</td>\n",
       "    </tr>\n",
       "    <tr>\n",
       "      <th>0</th>\n",
       "      <td>46212.21</td>\n",
       "      <td>39507.7210</td>\n",
       "      <td>31192.39024</td>\n",
       "    </tr>\n",
       "    <tr>\n",
       "      <th>0</th>\n",
       "      <td>28741.55</td>\n",
       "      <td>30940.2680</td>\n",
       "      <td>30699.88482</td>\n",
       "    </tr>\n",
       "    <tr>\n",
       "      <th>0</th>\n",
       "      <td>49392.22</td>\n",
       "      <td>40986.3900</td>\n",
       "      <td>32366.65882</td>\n",
       "    </tr>\n",
       "  </tbody>\n",
       "</table>\n",
       "<p>10000 rows × 3 columns</p>\n",
       "</div>"
      ],
      "text/plain": [
       "         1           10           100\n",
       "0   53225.67  33904.3151  32428.97062\n",
       "0   16692.58  21350.4651  31609.03541\n",
       "0   34902.01  24487.9360  32545.25132\n",
       "0   34902.01  33646.5800  33709.96031\n",
       "0   47377.26  29990.8151  33685.07072\n",
       "..       ...         ...          ...\n",
       "0   81417.78  33951.4960  31013.38321\n",
       "0   25525.99  28208.5190  32510.89862\n",
       "0   46212.21  39507.7210  31192.39024\n",
       "0   28741.55  30940.2680  30699.88482\n",
       "0   49392.22  40986.3900  32366.65882\n",
       "\n",
       "[10000 rows x 3 columns]"
      ]
     },
     "execution_count": 23,
     "metadata": {},
     "output_type": "execute_result"
    }
   ],
   "source": [
    "# 10k sample means of daily sales with sample size = 1, 10, 100\n",
    "sampling_size = [1, 10, 100]\n",
    "n = 10000\n",
    "\n",
    "# create empty dataframe\n",
    "df_clt = pd.DataFrame()\n",
    "\n",
    "# for loop mean of 10k random samples of size = sampling_size\n",
    "for i in range(n):\n",
    "    avg_daily_revenues = [np.mean(df_grouped['Revenue'].sample(n=s)) for s in sampling_size]\n",
    "    df_clt = pd.concat([df_clt, pd.DataFrame([avg_daily_revenues])])\n",
    "\n",
    "# rename column to sampling_size list\n",
    "df_clt.columns = sampling_size\n",
    "\n",
    "# get df_clt\n",
    "df_clt"
   ]
  },
  {
   "cell_type": "code",
   "execution_count": 24,
   "id": "da69ae3b-d578-435a-ab5f-56f5cba458f5",
   "metadata": {},
   "outputs": [
    {
     "data": {
      "image/png": "[encoded data removed]",
      "text/plain": [
       "<Figure size 640x480 with 1 Axes>"
      ]
     },
     "metadata": {},
     "output_type": "display_data"
    }
   ],
   "source": [
    "# CLT visualization for avg_daily_revenues with different sampling_size\n",
    "\n",
    "# import seaborn\n",
    "import seaborn as sns\n",
    "\n",
    "# hist\n",
    "sns.histplot(df_clt[1], color='blue', stat='frequency')\n",
    "sns.histplot(df_clt[10], color='red', stat='frequency')\n",
    "sns.histplot(df_clt[100], color='green', stat='frequency')\n",
    "\n",
    "# labels and legend\n",
    "plt.xlabel('Sample mean values for sample = 1, 10, 100')\n",
    "plt.legend(labels=[1, 10, 100], title='Sample size')\n",
    "\n",
    "# show plot\n",
    "plt.show()"
   ]
  },
  {
   "cell_type": "code",
   "execution_count": 25,
   "id": "6025bcf1-6dee-4209-8e87-7e7fe6e5f67c",
   "metadata": {},
   "outputs": [],
   "source": [
    "# as the sample size increases, the variance narrows down around the mean \n",
    "# and the distribution tends towards a normal distribution\n",
    "\n",
    "# Var(X) = (σ ** 2) / n"
   ]
  },
  {
   "cell_type": "markdown",
   "id": "92f495ca-c89e-4534-a404-92da28158ae7",
   "metadata": {},
   "source": [
    "## 3. Scaling and normalization"
   ]
  },
  {
   "cell_type": "markdown",
   "id": "a668162a-7bf3-425f-b0da-94010e25e31e",
   "metadata": {},
   "source": [
    "Scaling and normalization on the 'history' column, which is the global revenue generated by each customer."
   ]
  },
  {
   "cell_type": "code",
   "execution_count": 26,
   "id": "5399c9b7-cbc5-4ef6-a008-fbc45cbc47c8",
   "metadata": {},
   "outputs": [
    {
     "data": {
      "text/html": [
       "<div>\n",
       "<style scoped>\n",
       "    .dataframe tbody tr th:only-of-type {\n",
       "        vertical-align: middle;\n",
       "    }\n",
       "\n",
       "    .dataframe tbody tr th {\n",
       "        vertical-align: top;\n",
       "    }\n",
       "\n",
       "    .dataframe thead th {\n",
       "        text-align: right;\n",
       "    }\n",
       "</style>\n",
       "<table border=\"1\" class=\"dataframe\">\n",
       "  <thead>\n",
       "    <tr style=\"text-align: right;\">\n",
       "      <th></th>\n",
       "      <th>recency</th>\n",
       "      <th>history</th>\n",
       "      <th>used_discount</th>\n",
       "      <th>used_bogo</th>\n",
       "      <th>zip_code</th>\n",
       "      <th>is_referral</th>\n",
       "      <th>channel</th>\n",
       "      <th>offer</th>\n",
       "      <th>conversion</th>\n",
       "    </tr>\n",
       "  </thead>\n",
       "  <tbody>\n",
       "    <tr>\n",
       "      <th>0</th>\n",
       "      <td>10</td>\n",
       "      <td>142.44</td>\n",
       "      <td>1</td>\n",
       "      <td>0</td>\n",
       "      <td>Surburban</td>\n",
       "      <td>0</td>\n",
       "      <td>Phone</td>\n",
       "      <td>Buy One Get One</td>\n",
       "      <td>0</td>\n",
       "    </tr>\n",
       "    <tr>\n",
       "      <th>1</th>\n",
       "      <td>5</td>\n",
       "      <td>349.41</td>\n",
       "      <td>1</td>\n",
       "      <td>1</td>\n",
       "      <td>Surburban</td>\n",
       "      <td>1</td>\n",
       "      <td>Phone</td>\n",
       "      <td>Buy One Get One</td>\n",
       "      <td>0</td>\n",
       "    </tr>\n",
       "    <tr>\n",
       "      <th>2</th>\n",
       "      <td>7</td>\n",
       "      <td>64.04</td>\n",
       "      <td>0</td>\n",
       "      <td>1</td>\n",
       "      <td>Rural</td>\n",
       "      <td>0</td>\n",
       "      <td>Web</td>\n",
       "      <td>Buy One Get One</td>\n",
       "      <td>1</td>\n",
       "    </tr>\n",
       "    <tr>\n",
       "      <th>3</th>\n",
       "      <td>2</td>\n",
       "      <td>244.82</td>\n",
       "      <td>0</td>\n",
       "      <td>1</td>\n",
       "      <td>Rural</td>\n",
       "      <td>1</td>\n",
       "      <td>Web</td>\n",
       "      <td>Buy One Get One</td>\n",
       "      <td>1</td>\n",
       "    </tr>\n",
       "    <tr>\n",
       "      <th>4</th>\n",
       "      <td>11</td>\n",
       "      <td>302.15</td>\n",
       "      <td>1</td>\n",
       "      <td>0</td>\n",
       "      <td>Urban</td>\n",
       "      <td>0</td>\n",
       "      <td>Web</td>\n",
       "      <td>Buy One Get One</td>\n",
       "      <td>0</td>\n",
       "    </tr>\n",
       "  </tbody>\n",
       "</table>\n",
       "</div>"
      ],
      "text/plain": [
       "   recency  history  used_discount  used_bogo   zip_code  is_referral channel  \\\n",
       "0       10   142.44              1          0  Surburban            0   Phone   \n",
       "1        5   349.41              1          1  Surburban            1   Phone   \n",
       "2        7    64.04              0          1      Rural            0     Web   \n",
       "3        2   244.82              0          1      Rural            1     Web   \n",
       "4       11   302.15              1          0      Urban            0     Web   \n",
       "\n",
       "             offer  conversion  \n",
       "0  Buy One Get One           0  \n",
       "1  Buy One Get One           0  \n",
       "2  Buy One Get One           1  \n",
       "3  Buy One Get One           1  \n",
       "4  Buy One Get One           0  "
      ]
     },
     "execution_count": 26,
     "metadata": {},
     "output_type": "execute_result"
    }
   ],
   "source": [
    "# load/read data from csv\n",
    "df = pd.read_csv('data/Marketing3.csv', index_col=[0])\n",
    "df.head()"
   ]
  },
  {
   "cell_type": "markdown",
   "id": "7414af8d-1ebb-4957-95c9-623e0ee334ac",
   "metadata": {},
   "source": [
    "### 3.1 Functions"
   ]
  },
  {
   "cell_type": "code",
   "execution_count": 27,
   "id": "3c81cc7a-2281-4b68-b152-d5b75fb013ac",
   "metadata": {},
   "outputs": [],
   "source": [
    "# define functions\n",
    "\n",
    "def MinMaxScaling(x):\n",
    "    return (x - np.min(x)) / (np.max(x) - np.min(x))\n",
    "\n",
    "def Standardize(x):\n",
    "    return (x - np.mean(x)) / np.std(x)\n",
    "\n",
    "def LogScaling(x):\n",
    "    return np.log(x)"
   ]
  },
  {
   "cell_type": "code",
   "execution_count": 28,
   "id": "6bbd965a-3656-482f-aac1-9301f9f98849",
   "metadata": {},
   "outputs": [],
   "source": [
    "# apply functions to history data column\n",
    "\n",
    "c1 = MinMaxScaling(df['history'])\n",
    "c2 = Standardize(df['history'])\n",
    "c3 = LogScaling(df['history'])"
   ]
  },
  {
   "cell_type": "markdown",
   "id": "7aebec93-0a66-4604-b29b-e7744adc5621",
   "metadata": {},
   "source": [
    "### 3.2 Effects on density distribution"
   ]
  },
  {
   "cell_type": "code",
   "execution_count": 29,
   "id": "30296fd8-d939-4fbc-a824-9a95cdc4e635",
   "metadata": {},
   "outputs": [
    {
     "data": {
      "image/png": "[encoded data removed]",
      "text/plain": [
       "<Figure size 640x480 with 4 Axes>"
      ]
     },
     "metadata": {},
     "output_type": "display_data"
    }
   ],
   "source": [
    "# create figure subplots\n",
    "fig, (ax1, ax2, ax3, ax4) = plt.subplots(1, 4)\n",
    "\n",
    "# density kde plots\n",
    "sns.kdeplot(ax=ax1, x=df['history']).set_title('Raw data')\n",
    "sns.kdeplot(ax=ax2, x=c1).set_title('Min-Max')\n",
    "sns.kdeplot(ax=ax3, x=c2).set_title('Z-score')\n",
    "sns.kdeplot(ax=ax4, x=c3).set_title('Log')\n",
    "\n",
    "# layout and show\n",
    "plt.tight_layout()\n",
    "plt.show()"
   ]
  },
  {
   "cell_type": "code",
   "execution_count": 30,
   "id": "ee9f35b2-513c-45b2-9d1c-116df67a38d1",
   "metadata": {},
   "outputs": [
    {
     "data": {
      "image/png": "[encoded data removed]",
      "text/plain": [
       "<Figure size 640x480 with 1 Axes>"
      ]
     },
     "metadata": {},
     "output_type": "display_data"
    }
   ],
   "source": [
    "# violin plot\n",
    "scale_data = pd.DataFrame({\n",
    "                        'data': df['history'],\n",
    "                        'min_max': c1,\n",
    "                        'z_score': c2,\n",
    "                        'log': c3})\n",
    "\n",
    "# fig subplot and labels\n",
    "fig, ax = plt.subplots(1,1)\n",
    "labels = ['Raw data', 'Min-Max', 'Z-score', 'Log']\n",
    "\n",
    "# plot\n",
    "ax.violinplot([scale_data.data, scale_data.min_max, scale_data.z_score, scale_data.log])\n",
    "ax.set_ylabel('Sample name')\n",
    "ax.set_xlabel('Value')\n",
    "\n",
    "# set number or labels and label names on x-axis\n",
    "plt.xticks(1 + np.arange(len(labels)), labels)\n",
    "\n",
    "# show plot\n",
    "plt.show()"
   ]
  },
  {
   "cell_type": "code",
   "execution_count": 31,
   "id": "31f47cb2-9bb6-442b-b775-5505fe4bf6e1",
   "metadata": {},
   "outputs": [
    {
     "data": {
      "image/png": "[encoded data removed]",
      "text/plain": [
       "<Figure size 640x480 with 1 Axes>"
      ]
     },
     "metadata": {},
     "output_type": "display_data"
    }
   ],
   "source": [
    "# comparison without 'Raw data' (too big compared to other values)\n",
    "scale_data = pd.DataFrame({\n",
    "                        'min_max': c1,\n",
    "                        'z_score': c2,\n",
    "                        'log': c3})\n",
    "\n",
    "# fig subplot and labels\n",
    "fig, ax = plt.subplots(1,1)\n",
    "labels = ['Min-Max', 'Z-score', 'Log']\n",
    "\n",
    "# plot\n",
    "ax.violinplot([scale_data.min_max, scale_data.z_score, scale_data.log])\n",
    "ax.set_ylabel('Sample name')\n",
    "ax.set_xlabel('Value')\n",
    "\n",
    "# set number or labels and label names on x-axis\n",
    "plt.xticks(1 + np.arange(len(labels)), labels)\n",
    "\n",
    "# show plot\n",
    "plt.show()"
   ]
  },
  {
   "cell_type": "markdown",
   "id": "e8b0bdca-f913-4e1c-9774-bfeed8f97f84",
   "metadata": {},
   "source": [
    "### 3.3 Thoughts"
   ]
  },
  {
   "cell_type": "code",
   "execution_count": 32,
   "id": "a2c839b1-4f8a-4477-afd6-9ddbd8c620e7",
   "metadata": {},
   "outputs": [],
   "source": [
    "# Min-max scaling ensures that all values are between 0 and 1\n",
    "# Standardization (z-score) has no min/max values and results on average with values being set to 0 \n",
    "# Standardization (z-score) some values will therefore become negative"
   ]
  },
  {
   "cell_type": "markdown",
   "id": "5e004282-08fd-4a24-8fe9-b5f136da7b65",
   "metadata": {},
   "source": [
    "## 4. Bayesian probability computation"
   ]
  },
  {
   "cell_type": "markdown",
   "id": "9ce769c6-6768-4353-9eb3-43df19026158",
   "metadata": {},
   "source": [
    "The Bayes' law states that:\n",
    "\n",
    "$$P(A|B) = \\frac{P(B|A)P(A)}{P(B)}$$"
   ]
  },
  {
   "cell_type": "code",
   "execution_count": 33,
   "id": "1bb1146f-4bcc-4d37-889e-86cfc436c42d",
   "metadata": {},
   "outputs": [
    {
     "data": {
      "text/html": [
       "<div>\n",
       "<style scoped>\n",
       "    .dataframe tbody tr th:only-of-type {\n",
       "        vertical-align: middle;\n",
       "    }\n",
       "\n",
       "    .dataframe tbody tr th {\n",
       "        vertical-align: top;\n",
       "    }\n",
       "\n",
       "    .dataframe thead th {\n",
       "        text-align: right;\n",
       "    }\n",
       "</style>\n",
       "<table border=\"1\" class=\"dataframe\">\n",
       "  <thead>\n",
       "    <tr style=\"text-align: right;\">\n",
       "      <th></th>\n",
       "      <th>recency</th>\n",
       "      <th>history</th>\n",
       "      <th>used_discount</th>\n",
       "      <th>used_bogo</th>\n",
       "      <th>zip_code</th>\n",
       "      <th>is_referral</th>\n",
       "      <th>channel</th>\n",
       "      <th>offer</th>\n",
       "      <th>conversion</th>\n",
       "    </tr>\n",
       "  </thead>\n",
       "  <tbody>\n",
       "    <tr>\n",
       "      <th>0</th>\n",
       "      <td>10</td>\n",
       "      <td>142.44</td>\n",
       "      <td>1</td>\n",
       "      <td>0</td>\n",
       "      <td>Surburban</td>\n",
       "      <td>0</td>\n",
       "      <td>Phone</td>\n",
       "      <td>Buy One Get One</td>\n",
       "      <td>0</td>\n",
       "    </tr>\n",
       "    <tr>\n",
       "      <th>1</th>\n",
       "      <td>5</td>\n",
       "      <td>349.41</td>\n",
       "      <td>1</td>\n",
       "      <td>1</td>\n",
       "      <td>Surburban</td>\n",
       "      <td>1</td>\n",
       "      <td>Phone</td>\n",
       "      <td>Buy One Get One</td>\n",
       "      <td>0</td>\n",
       "    </tr>\n",
       "    <tr>\n",
       "      <th>2</th>\n",
       "      <td>7</td>\n",
       "      <td>64.04</td>\n",
       "      <td>0</td>\n",
       "      <td>1</td>\n",
       "      <td>Rural</td>\n",
       "      <td>0</td>\n",
       "      <td>Web</td>\n",
       "      <td>Buy One Get One</td>\n",
       "      <td>1</td>\n",
       "    </tr>\n",
       "    <tr>\n",
       "      <th>3</th>\n",
       "      <td>2</td>\n",
       "      <td>244.82</td>\n",
       "      <td>0</td>\n",
       "      <td>1</td>\n",
       "      <td>Rural</td>\n",
       "      <td>1</td>\n",
       "      <td>Web</td>\n",
       "      <td>Buy One Get One</td>\n",
       "      <td>1</td>\n",
       "    </tr>\n",
       "    <tr>\n",
       "      <th>4</th>\n",
       "      <td>11</td>\n",
       "      <td>302.15</td>\n",
       "      <td>1</td>\n",
       "      <td>0</td>\n",
       "      <td>Urban</td>\n",
       "      <td>0</td>\n",
       "      <td>Web</td>\n",
       "      <td>Buy One Get One</td>\n",
       "      <td>0</td>\n",
       "    </tr>\n",
       "  </tbody>\n",
       "</table>\n",
       "</div>"
      ],
      "text/plain": [
       "   recency  history  used_discount  used_bogo   zip_code  is_referral channel  \\\n",
       "0       10   142.44              1          0  Surburban            0   Phone   \n",
       "1        5   349.41              1          1  Surburban            1   Phone   \n",
       "2        7    64.04              0          1      Rural            0     Web   \n",
       "3        2   244.82              0          1      Rural            1     Web   \n",
       "4       11   302.15              1          0      Urban            0     Web   \n",
       "\n",
       "             offer  conversion  \n",
       "0  Buy One Get One           0  \n",
       "1  Buy One Get One           0  \n",
       "2  Buy One Get One           1  \n",
       "3  Buy One Get One           1  \n",
       "4  Buy One Get One           0  "
      ]
     },
     "execution_count": 33,
     "metadata": {},
     "output_type": "execute_result"
    }
   ],
   "source": [
    "# load/read data\n",
    "df = pd.read_csv('data/Marketing3.csv', index_col=[0])\n",
    "df.head()"
   ]
  },
  {
   "cell_type": "markdown",
   "id": "c450802e-188d-4c94-9979-f0c3dbea4077",
   "metadata": {},
   "source": [
    "### 4.1 P(conversion of a random customer)"
   ]
  },
  {
   "cell_type": "markdown",
   "id": "31aeee80-5f4a-4938-91bc-7ed610f42c27",
   "metadata": {},
   "source": [
    "$$P(conv) = \\frac{N(conv)}{N(total)}$$"
   ]
  },
  {
   "cell_type": "code",
   "execution_count": 34,
   "id": "8b273f10-4841-42e4-a22b-bd25fac84683",
   "metadata": {},
   "outputs": [
    {
     "data": {
      "text/plain": [
       "0.14678125"
      ]
     },
     "execution_count": 34,
     "metadata": {},
     "output_type": "execute_result"
    }
   ],
   "source": [
    "# number of rows\n",
    "row_count = df.shape[0]\n",
    "\n",
    "# number of conversions\n",
    "conversion_count = df.groupby(['conversion']).size()[1]\n",
    "\n",
    "# P(conversion of a random customer)\n",
    "conversion_count / row_count"
   ]
  },
  {
   "cell_type": "markdown",
   "id": "b56a59e8-2e43-44d1-a998-102b4d6bc708",
   "metadata": {},
   "source": [
    "### 4.2 P(random customer has been active <6 months and converted)"
   ]
  },
  {
   "cell_type": "markdown",
   "id": "18c110c9-cd4b-4546-bab6-c0b45f038ce2",
   "metadata": {},
   "source": [
    "$$P(conv\\cap Recency<6) = \\frac{N(Recency<6 \\cap conv)}{N(total)}$$"
   ]
  },
  {
   "cell_type": "code",
   "execution_count": 35,
   "id": "06479b68-f476-4ba3-a4a4-37c25bac82d3",
   "metadata": {},
   "outputs": [
    {
     "data": {
      "text/plain": [
       "0.09525"
      ]
     },
     "execution_count": 35,
     "metadata": {},
     "output_type": "execute_result"
    }
   ],
   "source": [
    "# recency <6 months and converted (rows count)\n",
    "recency6conv_count = df[(df['recency'] <= 6) & (df['conversion'] == 1)].shape[0]\n",
    "\n",
    "# P(<6 and converted)\n",
    "recency6conv_count / row_count"
   ]
  },
  {
   "cell_type": "markdown",
   "id": "bf944ff7-f1f2-414f-83d0-56d606b00e37",
   "metadata": {},
   "source": [
    "### 4.3 P(conversion of customer that was active in the last 6 months)"
   ]
  },
  {
   "cell_type": "markdown",
   "id": "dfec7c53-5782-492c-94fe-1ca400a520f6",
   "metadata": {},
   "source": [
    "$$P(conv|Recency<6) = \\frac{P(conv \\cap Recency<6)}{P(Recency<6)} = \\frac{N(Recency<6 \\cap conv)}{N(Recency<6)}$$"
   ]
  },
  {
   "cell_type": "code",
   "execution_count": 36,
   "id": "e3ba0274-76b7-49b8-ae02-364e9ab49c02",
   "metadata": {},
   "outputs": [
    {
     "data": {
      "text/plain": [
       "0.17035647279549718"
      ]
     },
     "execution_count": 36,
     "metadata": {},
     "output_type": "execute_result"
    }
   ],
   "source": [
    "# P(conv|recency <6)\n",
    "# probability of conversion given a recency that is less that 6 months\n",
    "\n",
    "# recency <6 months (rows count)\n",
    "recency6_count = df[df['recency'] < 6].shape[0]\n",
    "\n",
    "# recency <6 months and converted (rows count)\n",
    "recency6conv_count = df[(df['recency'] < 6) & (df['conversion'] == 1)].shape[0]\n",
    "\n",
    "# P(conv|recency <6)\n",
    "recency6conv_count / recency6_count"
   ]
  },
  {
   "cell_type": "markdown",
   "id": "458b6a8d-9dc0-409a-a025-de67bf219957",
   "metadata": {},
   "source": [
    "### 4.4 Global conversion rate update"
   ]
  },
  {
   "cell_type": "markdown",
   "id": "88fe6701-6da2-4b9d-ad58-dc0640891bc1",
   "metadata": {},
   "source": [
    "1. $$P(conv) = P(conv\\cap rural) + P(conv\\cap urban) + P(conv\\cap suburban)$$\n",
    "\n",
    "2. $$P(conv) = P(conv|rural)*P(rural) + P(conv|urban)*P(urban) + P(conv|suburban)*P(suburban)$$\n",
    "\n",
    "\n",
    "3. $$P(conv) = P(conv|rural)*30\\% + P(conv|urban)*50\\% + P(conv|suburban)*20%$$\n",
    "\n",
    "4. $$P(conv) = \\frac{N(conv\\cap rural)}{N(rural)}*30\\% + \\frac{N(conv|urban)}{N(urban)}*50\\% + \\frac{N(conv|suburban)}{N(suburban)}*20\\%$$\n"
   ]
  },
  {
   "cell_type": "code",
   "execution_count": 37,
   "id": "9d4231f4-798b-47e6-a9b1-545964700c6c",
   "metadata": {},
   "outputs": [
    {
     "data": {
      "text/plain": [
       "0.15394670886762873"
      ]
     },
     "execution_count": 37,
     "metadata": {},
     "output_type": "execute_result"
    }
   ],
   "source": [
    "# update rural 0.3, urban 0.5, suburban 0.2\n",
    "\n",
    "# rural\n",
    "N_rural_count = df[df['zip_code'] == 'Rural'].shape[0]\n",
    "# conversion given rural\n",
    "N_rural_conv_count = df[(df['zip_code'] == 'Rural') & (df[\"conversion\"] == 1)].shape[0]\n",
    "\n",
    "# urban\n",
    "N_urban_count = df[df['zip_code'] == 'Urban'].shape[0]\n",
    "# conversion given urban\n",
    "N_urban_conv_count = df[(df['zip_code'] == 'Urban') & (df[\"conversion\"] == 1)].shape[0]\n",
    "\n",
    "# suburban\n",
    "N_suburban_count = df[df['zip_code'] == 'Surburban'].shape[0]\n",
    "# conversion given suburban\n",
    "N_suburban_conv_count = df[(df['zip_code'] == 'Surburban') & (df[\"conversion\"] == 1)].shape[0]\n",
    "\n",
    "# updated conversion probability\n",
    "P = N_rural_conv_count / N_rural_count * 0.3 + N_urban_conv_count / N_urban_count * 0.5 + N_suburban_conv_count / N_suburban_count * 0.2\n",
    "P"
   ]
  },
  {
   "cell_type": "code",
   "execution_count": 38,
   "id": "64ad027c-0086-46d0-abce-95b46dc66837",
   "metadata": {},
   "outputs": [],
   "source": [
    "# from 0.147 to 0.153"
   ]
  },
  {
   "cell_type": "markdown",
   "id": "93d86ecd-dc1e-4a02-86ff-ff75a3650ae7",
   "metadata": {},
   "source": [
    "### 4.5 Prior knowledge integration"
   ]
  },
  {
   "cell_type": "markdown",
   "id": "bb6951f4-39f3-4dc1-bbe6-529866a64210",
   "metadata": {},
   "source": [
    "Let's say that our model predicts from the features (columns) whether a marketing sollicitation is going to result in a conversion. Here are the counts for the test phase:\n",
    "\n",
    "|                          | Customers that converted | Customers that did not convert |\n",
    "|--------------------------|-----------------|---------------------|\n",
    "| Predicted: conv = 1  | 100             | 10                  |\n",
    "| Predicted: conv = 0  | 4               | 1000                |"
   ]
  },
  {
   "cell_type": "markdown",
   "id": "125a0a5d-bdec-437c-9577-1af8a9b9f49e",
   "metadata": {},
   "source": [
    "$$P(conv|conv_{pred}) = \\frac{P(conv_{pred}|conv)P(conv)}{P(conv_{pred})}$$"
   ]
  },
  {
   "cell_type": "code",
   "execution_count": 39,
   "id": "dc272686-dd66-4b98-bd3c-0077741aed87",
   "metadata": {},
   "outputs": [
    {
     "data": {
      "text/plain": [
       "0.9090909090909091"
      ]
     },
     "execution_count": 39,
     "metadata": {},
     "output_type": "execute_result"
    }
   ],
   "source": [
    "p_convpred_given_conv = 100/(100+4)\n",
    "p_conv = 104/1114\n",
    "p_convpred = 110/1114\n",
    "\n",
    "p_conv_given_convpred = p_convpred_given_conv * p_conv / p_convpred\n",
    "p_conv_given_convpred"
   ]
  },
  {
   "cell_type": "code",
   "execution_count": 40,
   "id": "c93c269c-2b0d-4722-9d09-6f2092729d9f",
   "metadata": {},
   "outputs": [
    {
     "data": {
      "text/plain": [
       "0.4868881118881119"
      ]
     },
     "execution_count": 40,
     "metadata": {},
     "output_type": "execute_result"
    }
   ],
   "source": [
    "# what if historically the probability of conversion was 5% instead of 104/1114?\n",
    "p_conv_new = 5/100\n",
    "\n",
    "p_conv_given_convpred_new = p_convpred_given_conv * p_conv_new / p_convpred\n",
    "p_conv_given_convpred_new"
   ]
  },
  {
   "cell_type": "markdown",
   "id": "812c83e8-7dcf-4d65-b160-b65e8b0f1f88",
   "metadata": {},
   "source": [
    "The probability drops to 0.49 when combining the knowledge extracted from the model with an additional extenal input on the historical probability of conversion."
   ]
  }
 ],
 "metadata": {
  "kernelspec": {
   "display_name": "projects",
   "language": "python",
   "name": "projects"
  },
  "language_info": {
   "codemirror_mode": {
    "name": "ipython",
    "version": 3
   },
   "file_extension": ".py",
   "mimetype": "text/x-python",
   "name": "python",
   "nbconvert_exporter": "python",
   "pygments_lexer": "ipython3",
   "version": "3.10.9"
  }
 },
 "nbformat": 4,
 "nbformat_minor": 5
}
