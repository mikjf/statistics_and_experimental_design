{
 "cells": [
  {
   "cell_type": "markdown",
   "id": "46033fad-fc67-4e56-afc4-228da880541b",
   "metadata": {},
   "source": [
    "# Hypothesis testing on titanic dataset"
   ]
  },
  {
   "cell_type": "markdown",
   "id": "4765469f-6d23-4d2d-b265-4fafa3c393cd",
   "metadata": {},
   "source": [
    "Via hypothesis testing, we'll try to find the answer to the following questions:\n",
    "\n",
    "- Is passenger gender and cabin class related?\n",
    "- Does the age of passengers vary across cabin classes?"
   ]
  },
  {
   "cell_type": "markdown",
   "id": "515eb370-1cf5-4d8f-a229-457dbc85cad2",
   "metadata": {},
   "source": [
    "## 1. Import data"
   ]
  },
  {
   "cell_type": "code",
   "execution_count": 4,
   "id": "4c1940d5-b4bf-4718-9c5c-727564c012f9",
   "metadata": {},
   "outputs": [
    {
     "data": {
      "text/html": [
       "<div>\n",
       "<style scoped>\n",
       "    .dataframe tbody tr th:only-of-type {\n",
       "        vertical-align: middle;\n",
       "    }\n",
       "\n",
       "    .dataframe tbody tr th {\n",
       "        vertical-align: top;\n",
       "    }\n",
       "\n",
       "    .dataframe thead th {\n",
       "        text-align: right;\n",
       "    }\n",
       "</style>\n",
       "<table border=\"1\" class=\"dataframe\">\n",
       "  <thead>\n",
       "    <tr style=\"text-align: right;\">\n",
       "      <th></th>\n",
       "      <th>Unnamed: 0</th>\n",
       "      <th>Name</th>\n",
       "      <th>PClass</th>\n",
       "      <th>Age</th>\n",
       "      <th>Sex</th>\n",
       "      <th>Survived</th>\n",
       "      <th>SexCode</th>\n",
       "    </tr>\n",
       "  </thead>\n",
       "  <tbody>\n",
       "    <tr>\n",
       "      <th>0</th>\n",
       "      <td>1</td>\n",
       "      <td>Allen, Miss Elisabeth Walton</td>\n",
       "      <td>1st</td>\n",
       "      <td>29.00</td>\n",
       "      <td>female</td>\n",
       "      <td>1</td>\n",
       "      <td>1</td>\n",
       "    </tr>\n",
       "    <tr>\n",
       "      <th>1</th>\n",
       "      <td>2</td>\n",
       "      <td>Allison, Miss Helen Loraine</td>\n",
       "      <td>1st</td>\n",
       "      <td>2.00</td>\n",
       "      <td>female</td>\n",
       "      <td>0</td>\n",
       "      <td>1</td>\n",
       "    </tr>\n",
       "    <tr>\n",
       "      <th>2</th>\n",
       "      <td>3</td>\n",
       "      <td>Allison, Mr Hudson Joshua Creighton</td>\n",
       "      <td>1st</td>\n",
       "      <td>30.00</td>\n",
       "      <td>male</td>\n",
       "      <td>0</td>\n",
       "      <td>0</td>\n",
       "    </tr>\n",
       "    <tr>\n",
       "      <th>3</th>\n",
       "      <td>4</td>\n",
       "      <td>Allison, Mrs Hudson JC (Bessie Waldo Daniels)</td>\n",
       "      <td>1st</td>\n",
       "      <td>25.00</td>\n",
       "      <td>female</td>\n",
       "      <td>0</td>\n",
       "      <td>1</td>\n",
       "    </tr>\n",
       "    <tr>\n",
       "      <th>4</th>\n",
       "      <td>5</td>\n",
       "      <td>Allison, Master Hudson Trevor</td>\n",
       "      <td>1st</td>\n",
       "      <td>0.92</td>\n",
       "      <td>male</td>\n",
       "      <td>1</td>\n",
       "      <td>0</td>\n",
       "    </tr>\n",
       "    <tr>\n",
       "      <th>...</th>\n",
       "      <td>...</td>\n",
       "      <td>...</td>\n",
       "      <td>...</td>\n",
       "      <td>...</td>\n",
       "      <td>...</td>\n",
       "      <td>...</td>\n",
       "      <td>...</td>\n",
       "    </tr>\n",
       "    <tr>\n",
       "      <th>1308</th>\n",
       "      <td>1309</td>\n",
       "      <td>Zakarian, Mr Artun</td>\n",
       "      <td>3rd</td>\n",
       "      <td>27.00</td>\n",
       "      <td>male</td>\n",
       "      <td>0</td>\n",
       "      <td>0</td>\n",
       "    </tr>\n",
       "    <tr>\n",
       "      <th>1309</th>\n",
       "      <td>1310</td>\n",
       "      <td>Zakarian, Mr Maprieder</td>\n",
       "      <td>3rd</td>\n",
       "      <td>26.00</td>\n",
       "      <td>male</td>\n",
       "      <td>0</td>\n",
       "      <td>0</td>\n",
       "    </tr>\n",
       "    <tr>\n",
       "      <th>1310</th>\n",
       "      <td>1311</td>\n",
       "      <td>Zenni, Mr Philip</td>\n",
       "      <td>3rd</td>\n",
       "      <td>22.00</td>\n",
       "      <td>male</td>\n",
       "      <td>0</td>\n",
       "      <td>0</td>\n",
       "    </tr>\n",
       "    <tr>\n",
       "      <th>1311</th>\n",
       "      <td>1312</td>\n",
       "      <td>Lievens, Mr Rene</td>\n",
       "      <td>3rd</td>\n",
       "      <td>24.00</td>\n",
       "      <td>male</td>\n",
       "      <td>0</td>\n",
       "      <td>0</td>\n",
       "    </tr>\n",
       "    <tr>\n",
       "      <th>1312</th>\n",
       "      <td>1313</td>\n",
       "      <td>Zimmerman, Leo</td>\n",
       "      <td>3rd</td>\n",
       "      <td>29.00</td>\n",
       "      <td>male</td>\n",
       "      <td>0</td>\n",
       "      <td>0</td>\n",
       "    </tr>\n",
       "  </tbody>\n",
       "</table>\n",
       "<p>1313 rows × 7 columns</p>\n",
       "</div>"
      ],
      "text/plain": [
       "      Unnamed: 0                                           Name PClass    Age  \\\n",
       "0              1                   Allen, Miss Elisabeth Walton    1st  29.00   \n",
       "1              2                    Allison, Miss Helen Loraine    1st   2.00   \n",
       "2              3            Allison, Mr Hudson Joshua Creighton    1st  30.00   \n",
       "3              4  Allison, Mrs Hudson JC (Bessie Waldo Daniels)    1st  25.00   \n",
       "4              5                  Allison, Master Hudson Trevor    1st   0.92   \n",
       "...          ...                                            ...    ...    ...   \n",
       "1308        1309                             Zakarian, Mr Artun    3rd  27.00   \n",
       "1309        1310                         Zakarian, Mr Maprieder    3rd  26.00   \n",
       "1310        1311                               Zenni, Mr Philip    3rd  22.00   \n",
       "1311        1312                               Lievens, Mr Rene    3rd  24.00   \n",
       "1312        1313                                 Zimmerman, Leo    3rd  29.00   \n",
       "\n",
       "         Sex  Survived  SexCode  \n",
       "0     female         1        1  \n",
       "1     female         0        1  \n",
       "2       male         0        0  \n",
       "3     female         0        1  \n",
       "4       male         1        0  \n",
       "...      ...       ...      ...  \n",
       "1308    male         0        0  \n",
       "1309    male         0        0  \n",
       "1310    male         0        0  \n",
       "1311    male         0        0  \n",
       "1312    male         0        0  \n",
       "\n",
       "[1313 rows x 7 columns]"
      ]
     },
     "execution_count": 4,
     "metadata": {},
     "output_type": "execute_result"
    }
   ],
   "source": [
    "# import pandas\n",
    "import pandas as pd\n",
    "\n",
    "# import titanic dataset\n",
    "df = pd.read_csv('data/titanic.csv')\n",
    "df"
   ]
  },
  {
   "cell_type": "markdown",
   "id": "f7a35f96-9fbd-477c-894c-657fa10ebd7f",
   "metadata": {},
   "source": [
    "## 2. Quick EDA"
   ]
  },
  {
   "cell_type": "code",
   "execution_count": 5,
   "id": "8218e741-1622-488f-9be6-198dcd04bf14",
   "metadata": {},
   "outputs": [
    {
     "data": {
      "text/plain": [
       "array([1, 0])"
      ]
     },
     "execution_count": 5,
     "metadata": {},
     "output_type": "execute_result"
    }
   ],
   "source": [
    "# categorical nominal\n",
    "df['SexCode'].unique()"
   ]
  },
  {
   "cell_type": "code",
   "execution_count": 6,
   "id": "84522d7a-1755-4d3f-b08b-9c2960e8f768",
   "metadata": {},
   "outputs": [
    {
     "data": {
      "text/plain": [
       "array(['1st', '2nd', '*', '3rd'], dtype=object)"
      ]
     },
     "execution_count": 6,
     "metadata": {},
     "output_type": "execute_result"
    }
   ],
   "source": [
    "# categorical ordinal\n",
    "df['PClass'].unique()"
   ]
  },
  {
   "cell_type": "code",
   "execution_count": 8,
   "id": "fbe6f960-8f3c-4cdd-8178-2da0754aa6c3",
   "metadata": {},
   "outputs": [
    {
     "data": {
      "text/html": [
       "<div>\n",
       "<style scoped>\n",
       "    .dataframe tbody tr th:only-of-type {\n",
       "        vertical-align: middle;\n",
       "    }\n",
       "\n",
       "    .dataframe tbody tr th {\n",
       "        vertical-align: top;\n",
       "    }\n",
       "\n",
       "    .dataframe thead th {\n",
       "        text-align: right;\n",
       "    }\n",
       "</style>\n",
       "<table border=\"1\" class=\"dataframe\">\n",
       "  <thead>\n",
       "    <tr style=\"text-align: right;\">\n",
       "      <th></th>\n",
       "      <th>Unnamed: 0</th>\n",
       "      <th>Name</th>\n",
       "      <th>PClass</th>\n",
       "      <th>Age</th>\n",
       "      <th>Sex</th>\n",
       "      <th>Survived</th>\n",
       "      <th>SexCode</th>\n",
       "    </tr>\n",
       "  </thead>\n",
       "  <tbody>\n",
       "    <tr>\n",
       "      <th>count</th>\n",
       "      <td>1313.000000</td>\n",
       "      <td>1313</td>\n",
       "      <td>1313</td>\n",
       "      <td>756.000000</td>\n",
       "      <td>1313</td>\n",
       "      <td>1313.000000</td>\n",
       "      <td>1313.000000</td>\n",
       "    </tr>\n",
       "    <tr>\n",
       "      <th>unique</th>\n",
       "      <td>NaN</td>\n",
       "      <td>1310</td>\n",
       "      <td>4</td>\n",
       "      <td>NaN</td>\n",
       "      <td>2</td>\n",
       "      <td>NaN</td>\n",
       "      <td>NaN</td>\n",
       "    </tr>\n",
       "    <tr>\n",
       "      <th>top</th>\n",
       "      <td>NaN</td>\n",
       "      <td>Connolly, Miss Kate</td>\n",
       "      <td>3rd</td>\n",
       "      <td>NaN</td>\n",
       "      <td>male</td>\n",
       "      <td>NaN</td>\n",
       "      <td>NaN</td>\n",
       "    </tr>\n",
       "    <tr>\n",
       "      <th>freq</th>\n",
       "      <td>NaN</td>\n",
       "      <td>2</td>\n",
       "      <td>711</td>\n",
       "      <td>NaN</td>\n",
       "      <td>851</td>\n",
       "      <td>NaN</td>\n",
       "      <td>NaN</td>\n",
       "    </tr>\n",
       "    <tr>\n",
       "      <th>mean</th>\n",
       "      <td>657.000000</td>\n",
       "      <td>NaN</td>\n",
       "      <td>NaN</td>\n",
       "      <td>30.397989</td>\n",
       "      <td>NaN</td>\n",
       "      <td>0.342727</td>\n",
       "      <td>0.351866</td>\n",
       "    </tr>\n",
       "    <tr>\n",
       "      <th>std</th>\n",
       "      <td>379.174762</td>\n",
       "      <td>NaN</td>\n",
       "      <td>NaN</td>\n",
       "      <td>14.259049</td>\n",
       "      <td>NaN</td>\n",
       "      <td>0.474802</td>\n",
       "      <td>0.477734</td>\n",
       "    </tr>\n",
       "    <tr>\n",
       "      <th>min</th>\n",
       "      <td>1.000000</td>\n",
       "      <td>NaN</td>\n",
       "      <td>NaN</td>\n",
       "      <td>0.170000</td>\n",
       "      <td>NaN</td>\n",
       "      <td>0.000000</td>\n",
       "      <td>0.000000</td>\n",
       "    </tr>\n",
       "    <tr>\n",
       "      <th>25%</th>\n",
       "      <td>329.000000</td>\n",
       "      <td>NaN</td>\n",
       "      <td>NaN</td>\n",
       "      <td>21.000000</td>\n",
       "      <td>NaN</td>\n",
       "      <td>0.000000</td>\n",
       "      <td>0.000000</td>\n",
       "    </tr>\n",
       "    <tr>\n",
       "      <th>50%</th>\n",
       "      <td>657.000000</td>\n",
       "      <td>NaN</td>\n",
       "      <td>NaN</td>\n",
       "      <td>28.000000</td>\n",
       "      <td>NaN</td>\n",
       "      <td>0.000000</td>\n",
       "      <td>0.000000</td>\n",
       "    </tr>\n",
       "    <tr>\n",
       "      <th>75%</th>\n",
       "      <td>985.000000</td>\n",
       "      <td>NaN</td>\n",
       "      <td>NaN</td>\n",
       "      <td>39.000000</td>\n",
       "      <td>NaN</td>\n",
       "      <td>1.000000</td>\n",
       "      <td>1.000000</td>\n",
       "    </tr>\n",
       "    <tr>\n",
       "      <th>max</th>\n",
       "      <td>1313.000000</td>\n",
       "      <td>NaN</td>\n",
       "      <td>NaN</td>\n",
       "      <td>71.000000</td>\n",
       "      <td>NaN</td>\n",
       "      <td>1.000000</td>\n",
       "      <td>1.000000</td>\n",
       "    </tr>\n",
       "  </tbody>\n",
       "</table>\n",
       "</div>"
      ],
      "text/plain": [
       "         Unnamed: 0                 Name PClass         Age   Sex  \\\n",
       "count   1313.000000                 1313   1313  756.000000  1313   \n",
       "unique          NaN                 1310      4         NaN     2   \n",
       "top             NaN  Connolly, Miss Kate    3rd         NaN  male   \n",
       "freq            NaN                    2    711         NaN   851   \n",
       "mean     657.000000                  NaN    NaN   30.397989   NaN   \n",
       "std      379.174762                  NaN    NaN   14.259049   NaN   \n",
       "min        1.000000                  NaN    NaN    0.170000   NaN   \n",
       "25%      329.000000                  NaN    NaN   21.000000   NaN   \n",
       "50%      657.000000                  NaN    NaN   28.000000   NaN   \n",
       "75%      985.000000                  NaN    NaN   39.000000   NaN   \n",
       "max     1313.000000                  NaN    NaN   71.000000   NaN   \n",
       "\n",
       "           Survived      SexCode  \n",
       "count   1313.000000  1313.000000  \n",
       "unique          NaN          NaN  \n",
       "top             NaN          NaN  \n",
       "freq            NaN          NaN  \n",
       "mean       0.342727     0.351866  \n",
       "std        0.474802     0.477734  \n",
       "min        0.000000     0.000000  \n",
       "25%        0.000000     0.000000  \n",
       "50%        0.000000     0.000000  \n",
       "75%        1.000000     1.000000  \n",
       "max        1.000000     1.000000  "
      ]
     },
     "execution_count": 8,
     "metadata": {},
     "output_type": "execute_result"
    }
   ],
   "source": [
    "# descriptive statistics\n",
    "df.describe(include='all')"
   ]
  },
  {
   "cell_type": "code",
   "execution_count": 9,
   "id": "ed41fd12-7395-41b3-928f-059667874c7e",
   "metadata": {},
   "outputs": [
    {
     "name": "stdout",
     "output_type": "stream",
     "text": [
      "<class 'pandas.core.frame.DataFrame'>\n",
      "RangeIndex: 1313 entries, 0 to 1312\n",
      "Data columns (total 7 columns):\n",
      " #   Column      Non-Null Count  Dtype  \n",
      "---  ------      --------------  -----  \n",
      " 0   Unnamed: 0  1313 non-null   int64  \n",
      " 1   Name        1313 non-null   object \n",
      " 2   PClass      1313 non-null   object \n",
      " 3   Age         756 non-null    float64\n",
      " 4   Sex         1313 non-null   object \n",
      " 5   Survived    1313 non-null   int64  \n",
      " 6   SexCode     1313 non-null   int64  \n",
      "dtypes: float64(1), int64(3), object(3)\n",
      "memory usage: 71.9+ KB\n"
     ]
    }
   ],
   "source": [
    "# info on dataset\n",
    "df.info()"
   ]
  },
  {
   "cell_type": "markdown",
   "id": "08d39501-293a-447f-a27a-794626fdcef9",
   "metadata": {},
   "source": [
    "### 2.1 Remove missing values"
   ]
  },
  {
   "cell_type": "code",
   "execution_count": 11,
   "id": "6208625e-7314-4696-b0bf-a05e1ad1c813",
   "metadata": {},
   "outputs": [],
   "source": [
    "# remove * missing cabin class\n",
    "df = df[df['PClass'] != '*']"
   ]
  },
  {
   "cell_type": "code",
   "execution_count": 12,
   "id": "0ad0af03-37fb-41c2-9b05-54b713c488ae",
   "metadata": {},
   "outputs": [
    {
     "data": {
      "text/plain": [
       "array(['1st', '2nd', '3rd'], dtype=object)"
      ]
     },
     "execution_count": 12,
     "metadata": {},
     "output_type": "execute_result"
    }
   ],
   "source": [
    "# check if PClass is now clean\n",
    "df['PClass'].unique()"
   ]
  },
  {
   "cell_type": "code",
   "execution_count": 13,
   "id": "4714e528-d17a-4e4c-8de0-a551bd45078e",
   "metadata": {},
   "outputs": [],
   "source": [
    "# remove NULL values\n",
    "df = df[[\"PClass\", \"Age\"]].dropna()"
   ]
  },
  {
   "cell_type": "code",
   "execution_count": 14,
   "id": "fdd4d8f8-6664-49db-ac81-bc5b9a0e8fc1",
   "metadata": {},
   "outputs": [
    {
     "data": {
      "text/plain": [
       "(756, 2)"
      ]
     },
     "execution_count": 14,
     "metadata": {},
     "output_type": "execute_result"
    }
   ],
   "source": [
    "# check new shape\n",
    "df.shape"
   ]
  },
  {
   "cell_type": "markdown",
   "id": "2d2610c2-2f71-4e84-9fa9-16425bb39e0e",
   "metadata": {},
   "source": [
    "## 3. Is passenger gender and cabin class related?"
   ]
  },
  {
   "cell_type": "markdown",
   "id": "b2639206-c8f4-492e-90f4-c0129b20b320",
   "metadata": {},
   "source": [
    "### 3.1 Normal distribution check"
   ]
  },
  {
   "cell_type": "code",
   "execution_count": 19,
   "id": "317b6a39-ddb7-42e3-89d6-6b4db2b20a95",
   "metadata": {},
   "outputs": [
    {
     "data": {
      "text/plain": [
       "ShapiroResult(statistic=0.9784689545631409, pvalue=4.15032630485257e-09)"
      ]
     },
     "execution_count": 19,
     "metadata": {},
     "output_type": "execute_result"
    }
   ],
   "source": [
    "# check if observations have an approximately normal distribution\n",
    "\n",
    "from scipy.stats import shapiro\n",
    "\n",
    "shapiro(df[\"Age\"])"
   ]
  },
  {
   "cell_type": "code",
   "execution_count": 18,
   "id": "b1a9fd83-32c7-4ef9-812e-cdc4d37817a0",
   "metadata": {},
   "outputs": [],
   "source": [
    "# p_value < alpha\n",
    "# it's not normally distributed\n",
    "# therefore it's non-parametric"
   ]
  },
  {
   "cell_type": "markdown",
   "id": "09264dba-3bed-478f-aad0-4fc855c2fb76",
   "metadata": {},
   "source": [
    "### 3.2 Run hypothesis test"
   ]
  },
  {
   "cell_type": "code",
   "execution_count": 27,
   "id": "8bcf1e7f-f872-4c79-893b-c056bcf8daca",
   "metadata": {},
   "outputs": [
    {
     "data": {
      "text/plain": [
       "KruskalResult(statistic=1051.907060470326, pvalue=9.371812053548873e-231)"
      ]
     },
     "execution_count": 27,
     "metadata": {},
     "output_type": "execute_result"
    }
   ],
   "source": [
    "# convert PClass strings into integers\n",
    "p_class = df['PClass'].replace({'1st' : 1, '2nd' : 2, '3rd': 3})\n",
    "\n",
    "# import mstats\n",
    "from scipy.stats import mstats\n",
    "\n",
    "# get p-value\n",
    "mstats.kruskalwallis(list(p_class), list(df['Age'].values))"
   ]
  },
  {
   "cell_type": "code",
   "execution_count": 28,
   "id": "04887fe0-21b3-4f36-8f7b-63bb23768f96",
   "metadata": {},
   "outputs": [],
   "source": [
    "# p_value < alpha\n",
    "# reject H0\n",
    "# there is a significant difference between the distriubtion of gender across cabin classes"
   ]
  },
  {
   "cell_type": "markdown",
   "id": "479b49c6-4344-46c1-86ad-b42deb1dfd1d",
   "metadata": {},
   "source": [
    "## 4. Does the age of passengers vary across cabin classes?"
   ]
  },
  {
   "cell_type": "code",
   "execution_count": 29,
   "id": "3af437b1-2ea3-41c3-9051-1d4959388bb8",
   "metadata": {},
   "outputs": [],
   "source": [
    "# compute count (frequency) of factors"
   ]
  },
  {
   "cell_type": "code",
   "execution_count": 30,
   "id": "efdd9de9-446c-43b5-ac08-6bedf0077696",
   "metadata": {},
   "outputs": [
    {
     "data": {
      "text/html": [
       "<div>\n",
       "<style scoped>\n",
       "    .dataframe tbody tr th:only-of-type {\n",
       "        vertical-align: middle;\n",
       "    }\n",
       "\n",
       "    .dataframe tbody tr th {\n",
       "        vertical-align: top;\n",
       "    }\n",
       "\n",
       "    .dataframe thead th {\n",
       "        text-align: right;\n",
       "    }\n",
       "</style>\n",
       "<table border=\"1\" class=\"dataframe\">\n",
       "  <thead>\n",
       "    <tr style=\"text-align: right;\">\n",
       "      <th>Age</th>\n",
       "      <th>0.17</th>\n",
       "      <th>0.33</th>\n",
       "      <th>0.8</th>\n",
       "      <th>0.83</th>\n",
       "      <th>0.92</th>\n",
       "      <th>1.0</th>\n",
       "      <th>1.5</th>\n",
       "      <th>2.0</th>\n",
       "      <th>3.0</th>\n",
       "      <th>4.0</th>\n",
       "      <th>...</th>\n",
       "      <th>61.0</th>\n",
       "      <th>62.0</th>\n",
       "      <th>63.0</th>\n",
       "      <th>64.0</th>\n",
       "      <th>65.0</th>\n",
       "      <th>67.0</th>\n",
       "      <th>69.0</th>\n",
       "      <th>70.0</th>\n",
       "      <th>71.0</th>\n",
       "      <th>All</th>\n",
       "    </tr>\n",
       "    <tr>\n",
       "      <th>PClass</th>\n",
       "      <th></th>\n",
       "      <th></th>\n",
       "      <th></th>\n",
       "      <th></th>\n",
       "      <th></th>\n",
       "      <th></th>\n",
       "      <th></th>\n",
       "      <th></th>\n",
       "      <th></th>\n",
       "      <th></th>\n",
       "      <th></th>\n",
       "      <th></th>\n",
       "      <th></th>\n",
       "      <th></th>\n",
       "      <th></th>\n",
       "      <th></th>\n",
       "      <th></th>\n",
       "      <th></th>\n",
       "      <th></th>\n",
       "      <th></th>\n",
       "      <th></th>\n",
       "    </tr>\n",
       "  </thead>\n",
       "  <tbody>\n",
       "    <tr>\n",
       "      <th>1st</th>\n",
       "      <td>0</td>\n",
       "      <td>0</td>\n",
       "      <td>0</td>\n",
       "      <td>0</td>\n",
       "      <td>1</td>\n",
       "      <td>0</td>\n",
       "      <td>0</td>\n",
       "      <td>1</td>\n",
       "      <td>0</td>\n",
       "      <td>1</td>\n",
       "      <td>...</td>\n",
       "      <td>3</td>\n",
       "      <td>2</td>\n",
       "      <td>2</td>\n",
       "      <td>5</td>\n",
       "      <td>1</td>\n",
       "      <td>1</td>\n",
       "      <td>1</td>\n",
       "      <td>1</td>\n",
       "      <td>2</td>\n",
       "      <td>226</td>\n",
       "    </tr>\n",
       "    <tr>\n",
       "      <th>2nd</th>\n",
       "      <td>0</td>\n",
       "      <td>0</td>\n",
       "      <td>1</td>\n",
       "      <td>1</td>\n",
       "      <td>0</td>\n",
       "      <td>3</td>\n",
       "      <td>0</td>\n",
       "      <td>4</td>\n",
       "      <td>3</td>\n",
       "      <td>2</td>\n",
       "      <td>...</td>\n",
       "      <td>0</td>\n",
       "      <td>0</td>\n",
       "      <td>0</td>\n",
       "      <td>1</td>\n",
       "      <td>0</td>\n",
       "      <td>0</td>\n",
       "      <td>0</td>\n",
       "      <td>0</td>\n",
       "      <td>1</td>\n",
       "      <td>212</td>\n",
       "    </tr>\n",
       "    <tr>\n",
       "      <th>3rd</th>\n",
       "      <td>1</td>\n",
       "      <td>1</td>\n",
       "      <td>0</td>\n",
       "      <td>1</td>\n",
       "      <td>0</td>\n",
       "      <td>2</td>\n",
       "      <td>2</td>\n",
       "      <td>2</td>\n",
       "      <td>3</td>\n",
       "      <td>4</td>\n",
       "      <td>...</td>\n",
       "      <td>0</td>\n",
       "      <td>0</td>\n",
       "      <td>1</td>\n",
       "      <td>0</td>\n",
       "      <td>1</td>\n",
       "      <td>0</td>\n",
       "      <td>0</td>\n",
       "      <td>0</td>\n",
       "      <td>0</td>\n",
       "      <td>318</td>\n",
       "    </tr>\n",
       "    <tr>\n",
       "      <th>All</th>\n",
       "      <td>1</td>\n",
       "      <td>1</td>\n",
       "      <td>1</td>\n",
       "      <td>2</td>\n",
       "      <td>1</td>\n",
       "      <td>5</td>\n",
       "      <td>2</td>\n",
       "      <td>7</td>\n",
       "      <td>6</td>\n",
       "      <td>7</td>\n",
       "      <td>...</td>\n",
       "      <td>3</td>\n",
       "      <td>2</td>\n",
       "      <td>3</td>\n",
       "      <td>6</td>\n",
       "      <td>2</td>\n",
       "      <td>1</td>\n",
       "      <td>1</td>\n",
       "      <td>1</td>\n",
       "      <td>3</td>\n",
       "      <td>756</td>\n",
       "    </tr>\n",
       "  </tbody>\n",
       "</table>\n",
       "<p>4 rows × 76 columns</p>\n",
       "</div>"
      ],
      "text/plain": [
       "Age     0.17  0.33  0.8  0.83  0.92  1.0  1.5  2.0  3.0  4.0  ...  61.0  62.0  \\\n",
       "PClass                                                        ...               \n",
       "1st        0     0    0     0     1    0    0    1    0    1  ...     3     2   \n",
       "2nd        0     0    1     1     0    3    0    4    3    2  ...     0     0   \n",
       "3rd        1     1    0     1     0    2    2    2    3    4  ...     0     0   \n",
       "All        1     1    1     2     1    5    2    7    6    7  ...     3     2   \n",
       "\n",
       "Age     63.0  64.0  65.0  67.0  69.0  70.0  71.0  All  \n",
       "PClass                                                 \n",
       "1st        2     5     1     1     1     1     2  226  \n",
       "2nd        0     1     0     0     0     0     1  212  \n",
       "3rd        1     0     1     0     0     0     0  318  \n",
       "All        3     6     2     1     1     1     3  756  \n",
       "\n",
       "[4 rows x 76 columns]"
      ]
     },
     "execution_count": 30,
     "metadata": {},
     "output_type": "execute_result"
    }
   ],
   "source": [
    "# computing frequency (count) of factors\n",
    "pd.crosstab(df.PClass, df.Age, margins=True)"
   ]
  },
  {
   "cell_type": "code",
   "execution_count": 31,
   "id": "639e5dbe-2a86-41cf-9ce6-20b7d9074cc3",
   "metadata": {},
   "outputs": [
    {
     "data": {
      "text/plain": [
       "KruskalResult(statistic=1051.907060470326, pvalue=9.371812053548873e-231)"
      ]
     },
     "execution_count": 31,
     "metadata": {},
     "output_type": "execute_result"
    }
   ],
   "source": [
    "# convert PClass strings into integers\n",
    "#p_class = map(lambda x: int(x[0]), df['PClass'].values)\n",
    "\n",
    "# get p-value\n",
    "mstats.kruskalwallis(list(p_class), list(df['Age'].values))\n",
    "\n",
    "# p_value < alpha\n",
    "# there is a significant difference between the distribution of age across cabin classes"
   ]
  },
  {
   "cell_type": "code",
   "execution_count": null,
   "id": "30aa4a56-1b70-4ba0-9512-951bbdfcc9fd",
   "metadata": {},
   "outputs": [],
   "source": []
  }
 ],
 "metadata": {
  "kernelspec": {
   "display_name": "projects",
   "language": "python",
   "name": "projects"
  },
  "language_info": {
   "codemirror_mode": {
    "name": "ipython",
    "version": 3
   },
   "file_extension": ".py",
   "mimetype": "text/x-python",
   "name": "python",
   "nbconvert_exporter": "python",
   "pygments_lexer": "ipython3",
   "version": "3.10.9"
  }
 },
 "nbformat": 4,
 "nbformat_minor": 5
}
